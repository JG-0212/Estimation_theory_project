{
 "cells": [
  {
   "cell_type": "code",
   "execution_count": 17,
   "metadata": {},
   "outputs": [],
   "source": [
    "import numpy as np\n",
    "import pandas as pd   \n",
    "import scipy\n",
    "import matplotlib.pyplot as plt\n",
    "from tqdm.notebook import tqdm"
   ]
  },
  {
   "cell_type": "code",
   "execution_count": 18,
   "metadata": {},
   "outputs": [],
   "source": [
    "cg = 1.78\n",
    "eps = 1e-2\n",
    "laplace_scale = 1.0 / (2**.5)"
   ]
  },
  {
   "cell_type": "code",
   "execution_count": 19,
   "metadata": {},
   "outputs": [],
   "source": [
    "np.random.seed(50)"
   ]
  },
  {
   "cell_type": "markdown",
   "metadata": {},
   "source": [
    "## Helper Functions"
   ]
  },
  {
   "cell_type": "code",
   "execution_count": 20,
   "metadata": {},
   "outputs": [],
   "source": [
    "def random_generator(n,a,gamma=(2*cg)**.5):\n",
    "    \"\"\"Draws random numbers from normal, laplace and cauchy distributions.\"\"\"\n",
    "    distributions = {}\n",
    "    distributions['normal'] = a + np.random.randn(n)\n",
    "    distributions['laplace'] = a + np.random.laplace(size = n,scale = laplace_scale)\n",
    "    distributions['cauchy'] = a + scipy.stats.cauchy.rvs(size=n,loc = 0, scale = gamma)\n",
    "    return distributions\n",
    "\n",
    "def f(data,gamma,a):\n",
    "    \"\"\"Optimization function for the cauchy distribution (given gamma).\"\"\"\n",
    "    return np.sum((a-data)/(1 + ((data-a)/gamma)**2))\n",
    "\n",
    "def df_da(data,gamma,a):\n",
    "    \"\"\"derivative of f with respect to a.\"\"\"\n",
    "    return np.sum((1 - ((data-a)/gamma)**2)/((1 + ((data-a)/gamma)**2)**2))\n",
    "\n",
    "def nr(data,guess,gamma,iterations=1000):\n",
    "    \"\"\"Newton-Raphson method for estimating the scale parameter of a Cauchy distribution.\"\"\"\n",
    "    for iteration in range(iterations):\n",
    "        y = f(data,gamma, guess)\n",
    "        dy_dA = df_da(data, gamma, guess)\n",
    "        guess -= y/dy_dA\n",
    "        if abs(y) < eps:\n",
    "            break\n",
    "    return guess\n",
    "\n",
    "def grad_desc(data,guess,gamma,iterations=1000):\n",
    "    \"\"\"gradient descent method for estimating the location parameter of a cauchy distribution.\"\"\"\n",
    "    # print(guess)\n",
    "    lr = 1e-3\n",
    "    pguess = 1e5\n",
    "    for _ in range(iterations):\n",
    "        y = f(data,gamma, guess)\n",
    "        # dy_da = df_da(data, gamma, guess)\n",
    "        pguess = guess\n",
    "        guess -= lr*y\n",
    "        if abs(pguess-guess) < eps:\n",
    "            break\n",
    "        # print(guess)\n",
    "    # print(\"over\")\n",
    "    return guess\n",
    "\n",
    "def mle_estimates(distributions, gamma, guess):\n",
    "    \"\"\"Calculates the mle estimates for normal, laplace and cauchy distributions.\"\"\"\n",
    "    estimates = {}\n",
    "    for key in distributions.keys():\n",
    "        if key == 'normal':\n",
    "            estimates[key] = np.mean(distributions[key])\n",
    "        elif key == 'laplace':\n",
    "            estimates[key] = np.median(distributions[key])\n",
    "        elif key == 'cauchy':\n",
    "            estimates[key] = nr(distributions[key], guess, gamma=gamma,iterations=10000)\n",
    "    return estimates\n",
    "\n"
   ]
  },
  {
   "cell_type": "markdown",
   "metadata": {},
   "source": [
    "## Experiments"
   ]
  },
  {
   "cell_type": "code",
   "execution_count": 21,
   "metadata": {},
   "outputs": [],
   "source": [
    "# from tqdm import tqdm\n",
    "\n",
    "def realisations(n, a, num_realisations):\n",
    "    \"\"\"Generates random numbers and calculates MLE estimates for multiple realisations.\"\"\"\n",
    "    estimates = {\"normal\": [], \"laplace\": [], \"cauchy\": []}\n",
    "    \n",
    "    for _ in tqdm(\n",
    "        range(num_realisations),\n",
    "        desc=f\"n={n} | Realisations\",\n",
    "        leave=False,\n",
    "        dynamic_ncols=True,\n",
    "    ):\n",
    "        distributions = random_generator(n, a)\n",
    "        estimate = mle_estimates(distributions, gamma=(2 * cg) ** 0.5, guess=np.median(distributions[\"cauchy\"]))\n",
    "\n",
    "        for key in estimate:\n",
    "            estimates[key].append(estimate[key])\n",
    "    \n",
    "    return estimates\n",
    "\n",
    "def get_statistics(estimates):\n",
    "    \"\"\"Calculates mean and standard deviation of MLE estimates.\"\"\"\n",
    "    statistics = {}\n",
    "    for key in estimates:\n",
    "        statistics[key] = {\n",
    "            'mean': np.mean(estimates[key]),\n",
    "            'var': np.var(estimates[key])\n",
    "        }\n",
    "    return statistics\n",
    "\n",
    "def iter_over_sample_size(ns, a, num_realisations):\n",
    "    \"\"\"Iterates over different sample sizes and calculates MLE estimates.\"\"\"\n",
    "    estimates = {}\n",
    "    stats = {}\n",
    "\n",
    "    outer = tqdm(ns, desc=\"Sample Sizes\", dynamic_ncols=True)\n",
    "    for n in outer:\n",
    "        outer.set_description(f\"Sample size: n={n}\")\n",
    "        estimates[n] = realisations(n, a, num_realisations)\n",
    "        stats[n] = get_statistics(estimates[n])\n",
    "        outer.write(f\"Done: n={n}, num_real={num_realisations}\")\n",
    "    \n",
    "    return estimates, stats\n",
    "\n",
    "def give_dataframe(a, sample_sizes, num_realisations):\n",
    "    data = {}\n",
    "    for ni in sample_sizes:\n",
    "        data[f\"{ni}\"]={}\n",
    "        for nri in num_realisations:\n",
    "            data[f\"{ni}\"][f\"normal_{nri}\"]={}\n",
    "            data[f\"{ni}\"][f\"laplace_{nri}\"]={}\n",
    "            data[f\"{ni}\"][f\"cauchy_{nri}\"]={}\n",
    "            \n",
    "    for nr in num_realisations:\n",
    "        _, stats = iter_over_sample_size(sample_sizes, a, nr)\n",
    "        for ni in sample_sizes:\n",
    "            data[f\"{ni}\"][f\"normal_{nr}\"] = rf\"{stats[ni][\"normal\"][\"mean\"]:.3f} ± {np.sqrt(stats[ni][\"normal\"][\"var\"]):.3f}\"\n",
    "            data[f\"{ni}\"][f\"laplace_{nr}\"] = rf\"{stats[ni][\"laplace\"][\"mean\"]:.3f} ± {np.sqrt(stats[ni][\"laplace\"][\"var\"]):.3f}\"\n",
    "            data[f\"{ni}\"][f\"cauchy_{nr}\"] = rf\"{stats[ni][\"normal\"][\"mean\"]:.3f} ± {np.sqrt(stats[ni][\"cauchy\"][\"var\"]):.3f}\"\n",
    "    df = pd.DataFrame(data).T\n",
    "    ordered_cols = [f\"normal_{nr}\" for nr in num_realisations]\n",
    "    ordered_cols.extend([f\"laplace_{nr}\" for nr in num_realisations])\n",
    "    ordered_cols.extend([f\"cauchy_{nr}\" for nr in num_realisations])\n",
    "    df = df.loc[:,ordered_cols]\n",
    "    return df\n"
   ]
  },
  {
   "cell_type": "markdown",
   "metadata": {},
   "source": [
    "## Plotting functions"
   ]
  },
  {
   "cell_type": "code",
   "execution_count": 22,
   "metadata": {},
   "outputs": [],
   "source": [
    "def plot_cdf(data, stat ,label='CDF', color='blue', axis=None):\n",
    "    \"\"\"Plots the CDF of the data.\"\"\"\n",
    "    if axis is None:\n",
    "        _, axis = plt.subplots(figsize=(5, 5), layout=\"constrained\")\n",
    "    sorted_data = np.sort(data)\n",
    "    cdf = np.linspace(0, 1, len(sorted_data))\n",
    "    axis.step(sorted_data, cdf, where='post', label=label, color=color)\n",
    "    axis.set_xlabel(r'Value of $\\hat{a}$')\n",
    "    axis.set_ylabel('Cumulative Probability')\n",
    "    axis.set_title(f\"CDF of {label} with mean: {stat['mean']:.3E} var: {stat['var']:.3E}\")\n",
    "    axis.set_xlim(max(-2,np.min(data)), min(4,np.max(data)))\n",
    "    # plt.legend()\n",
    "    # plt.show()\n",
    "\n",
    "def plot_cdf_pdf(ns,estimates,stats):\n",
    "    for n in ns:\n",
    "        _, axs = plt.subplots(3, 2, figsize=(10, 5), layout=\"constrained\")\n",
    "        for i,key in enumerate(estimates[n].keys()):\n",
    "            axs[i,0].hist(estimates[n][key], density=True, bins=100, alpha=0.5, color='blue', label='PDF',range=(max(-2,np.min(estimates[n][key])), min(4,np.max(estimates[n][key]))))\n",
    "            axs[i,0].set_title(f\"PDF of {key} with sample size {n}\")\n",
    "            plot_cdf(estimates[n][key], stats[n][key], label=key, color='blue', axis=axs[i,1])\n",
    "            axs[i,1].set_title(f\"CDF of {key} with sample size {n}\")\n",
    "        plt.show()\n",
    "\n",
    "def plot_mean_var(stats):\n",
    "    _, axs = plt.subplots(1, 2, figsize=(10, 5), layout=\"constrained\")\n",
    "    mean, var = {\"normal\": [], \"laplace\": [], \"cauchy\": []},{\"normal\": [], \"laplace\": [], \"cauchy\": []}\n",
    "    for n in stats.keys():\n",
    "        for key in mean.keys():\n",
    "            mean[key].append(stats[n][key]['mean'])\n",
    "            var[key].append(stats[n][key]['var'])\n",
    "    for key in mean.keys():\n",
    "        axs[0].semilogy(stats.keys(), mean[key], label=key)\n",
    "        axs[1].semilogy(stats.keys(), var[key], label=key)\n",
    "    axs[0].set_xlabel(r'Sample Size')\n",
    "    axs[0].set_ylabel(r'Mean of $\\hat{a}$')\n",
    "    axs[0].set_title(r'Mean of $\\hat{a}$')\n",
    "    # axs[0].set_xscale(r'log')\n",
    "    axs[1].set_xlabel(r'Sample Size')\n",
    "    axs[1].set_ylabel(r'Variance of $\\hat{a}$')\n",
    "    axs[1].set_title(r'Variance of $\\hat{a}$')\n",
    "    # axs[1].set_xscale(r'log')\n",
    "    axs[0].legend()\n",
    "    axs[1].legend()\n",
    "    plt.show()"
   ]
  },
  {
   "cell_type": "code",
   "execution_count": 23,
   "metadata": {},
   "outputs": [],
   "source": [
    "n = [1, 10, 100, 1000, 10000]#, 1000, 10000]\n",
    "num_realisations = [10,100,1000]"
   ]
  },
  {
   "cell_type": "code",
   "execution_count": 24,
   "metadata": {},
   "outputs": [
    {
     "data": {
      "application/vnd.jupyter.widget-view+json": {
       "model_id": "5a7605477a274f1e8bab44d5de8899d9",
       "version_major": 2,
       "version_minor": 0
      },
      "text/plain": [
       "Sample Sizes:   0%|          | 0/5 [00:00<?, ?it/s]"
      ]
     },
     "metadata": {},
     "output_type": "display_data"
    },
    {
     "data": {
      "application/vnd.jupyter.widget-view+json": {
       "model_id": "09c113f36c564a8a8a08208fdae6b463",
       "version_major": 2,
       "version_minor": 0
      },
      "text/plain": [
       "n=1 | Realisations:   0%|          | 0/10 [00:00<?, ?it/s]"
      ]
     },
     "metadata": {},
     "output_type": "display_data"
    },
    {
     "name": "stdout",
     "output_type": "stream",
     "text": [
      "Done: n=1, num_real=10\n"
     ]
    },
    {
     "data": {
      "application/vnd.jupyter.widget-view+json": {
       "model_id": "ff8c30f5bb784574883cba5129f0f443",
       "version_major": 2,
       "version_minor": 0
      },
      "text/plain": [
       "n=10 | Realisations:   0%|          | 0/10 [00:00<?, ?it/s]"
      ]
     },
     "metadata": {},
     "output_type": "display_data"
    },
    {
     "name": "stdout",
     "output_type": "stream",
     "text": [
      "Done: n=10, num_real=10\n"
     ]
    },
    {
     "data": {
      "application/vnd.jupyter.widget-view+json": {
       "model_id": "90e02ae135994dfcb21bd7216f3e5d0a",
       "version_major": 2,
       "version_minor": 0
      },
      "text/plain": [
       "n=100 | Realisations:   0%|          | 0/10 [00:00<?, ?it/s]"
      ]
     },
     "metadata": {},
     "output_type": "display_data"
    },
    {
     "name": "stdout",
     "output_type": "stream",
     "text": [
      "Done: n=100, num_real=10\n"
     ]
    },
    {
     "data": {
      "application/vnd.jupyter.widget-view+json": {
       "model_id": "f41edd18be50424aa6bd692b5183f1c7",
       "version_major": 2,
       "version_minor": 0
      },
      "text/plain": [
       "n=1000 | Realisations:   0%|          | 0/10 [00:00<?, ?it/s]"
      ]
     },
     "metadata": {},
     "output_type": "display_data"
    },
    {
     "name": "stdout",
     "output_type": "stream",
     "text": [
      "Done: n=1000, num_real=10\n"
     ]
    },
    {
     "data": {
      "application/vnd.jupyter.widget-view+json": {
       "model_id": "c85d3325931946b5ac2ff9b1045caff2",
       "version_major": 2,
       "version_minor": 0
      },
      "text/plain": [
       "n=10000 | Realisations:   0%|          | 0/10 [00:00<?, ?it/s]"
      ]
     },
     "metadata": {},
     "output_type": "display_data"
    },
    {
     "name": "stdout",
     "output_type": "stream",
     "text": [
      "Done: n=10000, num_real=10\n"
     ]
    },
    {
     "data": {
      "application/vnd.jupyter.widget-view+json": {
       "model_id": "74ebd5a60dc4422ba173cd7842e82eb3",
       "version_major": 2,
       "version_minor": 0
      },
      "text/plain": [
       "Sample Sizes:   0%|          | 0/5 [00:00<?, ?it/s]"
      ]
     },
     "metadata": {},
     "output_type": "display_data"
    },
    {
     "data": {
      "application/vnd.jupyter.widget-view+json": {
       "model_id": "7e6a7dd081e14245b531be76133fc0c7",
       "version_major": 2,
       "version_minor": 0
      },
      "text/plain": [
       "n=1 | Realisations:   0%|          | 0/100 [00:00<?, ?it/s]"
      ]
     },
     "metadata": {},
     "output_type": "display_data"
    },
    {
     "name": "stdout",
     "output_type": "stream",
     "text": [
      "Done: n=1, num_real=100\n"
     ]
    },
    {
     "data": {
      "application/vnd.jupyter.widget-view+json": {
       "model_id": "33f075a5a5dd4c85a548eaff299e44dd",
       "version_major": 2,
       "version_minor": 0
      },
      "text/plain": [
       "n=10 | Realisations:   0%|          | 0/100 [00:00<?, ?it/s]"
      ]
     },
     "metadata": {},
     "output_type": "display_data"
    },
    {
     "name": "stdout",
     "output_type": "stream",
     "text": [
      "Done: n=10, num_real=100\n"
     ]
    },
    {
     "data": {
      "application/vnd.jupyter.widget-view+json": {
       "model_id": "e4f6444eef5b44b399a8a22ddc825c31",
       "version_major": 2,
       "version_minor": 0
      },
      "text/plain": [
       "n=100 | Realisations:   0%|          | 0/100 [00:00<?, ?it/s]"
      ]
     },
     "metadata": {},
     "output_type": "display_data"
    },
    {
     "name": "stdout",
     "output_type": "stream",
     "text": [
      "Done: n=100, num_real=100\n"
     ]
    },
    {
     "data": {
      "application/vnd.jupyter.widget-view+json": {
       "model_id": "3c33312a2cfc414aa614eb434c292a54",
       "version_major": 2,
       "version_minor": 0
      },
      "text/plain": [
       "n=1000 | Realisations:   0%|          | 0/100 [00:00<?, ?it/s]"
      ]
     },
     "metadata": {},
     "output_type": "display_data"
    },
    {
     "name": "stdout",
     "output_type": "stream",
     "text": [
      "Done: n=1000, num_real=100\n"
     ]
    },
    {
     "data": {
      "application/vnd.jupyter.widget-view+json": {
       "model_id": "03a6565b263e4513be424fde24b1ac28",
       "version_major": 2,
       "version_minor": 0
      },
      "text/plain": [
       "n=10000 | Realisations:   0%|          | 0/100 [00:00<?, ?it/s]"
      ]
     },
     "metadata": {},
     "output_type": "display_data"
    },
    {
     "name": "stdout",
     "output_type": "stream",
     "text": [
      "Done: n=10000, num_real=100\n"
     ]
    },
    {
     "data": {
      "application/vnd.jupyter.widget-view+json": {
       "model_id": "81a3d6ce09524a5aaf06d0ea1bb8bf25",
       "version_major": 2,
       "version_minor": 0
      },
      "text/plain": [
       "Sample Sizes:   0%|          | 0/5 [00:00<?, ?it/s]"
      ]
     },
     "metadata": {},
     "output_type": "display_data"
    },
    {
     "data": {
      "application/vnd.jupyter.widget-view+json": {
       "model_id": "c2c7efd4e9034826a2bf78f259191875",
       "version_major": 2,
       "version_minor": 0
      },
      "text/plain": [
       "n=1 | Realisations:   0%|          | 0/1000 [00:00<?, ?it/s]"
      ]
     },
     "metadata": {},
     "output_type": "display_data"
    },
    {
     "name": "stdout",
     "output_type": "stream",
     "text": [
      "Done: n=1, num_real=1000\n"
     ]
    },
    {
     "data": {
      "application/vnd.jupyter.widget-view+json": {
       "model_id": "9e27e4fd30ce4a88a2c844fb30c80f35",
       "version_major": 2,
       "version_minor": 0
      },
      "text/plain": [
       "n=10 | Realisations:   0%|          | 0/1000 [00:00<?, ?it/s]"
      ]
     },
     "metadata": {},
     "output_type": "display_data"
    },
    {
     "name": "stdout",
     "output_type": "stream",
     "text": [
      "Done: n=10, num_real=1000\n"
     ]
    },
    {
     "data": {
      "application/vnd.jupyter.widget-view+json": {
       "model_id": "e545558df4db45db8557410fa785e94a",
       "version_major": 2,
       "version_minor": 0
      },
      "text/plain": [
       "n=100 | Realisations:   0%|          | 0/1000 [00:00<?, ?it/s]"
      ]
     },
     "metadata": {},
     "output_type": "display_data"
    },
    {
     "name": "stdout",
     "output_type": "stream",
     "text": [
      "Done: n=100, num_real=1000\n"
     ]
    },
    {
     "data": {
      "application/vnd.jupyter.widget-view+json": {
       "model_id": "4ee1eca0b6a643e3ab4fce132fc7281a",
       "version_major": 2,
       "version_minor": 0
      },
      "text/plain": [
       "n=1000 | Realisations:   0%|          | 0/1000 [00:00<?, ?it/s]"
      ]
     },
     "metadata": {},
     "output_type": "display_data"
    },
    {
     "name": "stdout",
     "output_type": "stream",
     "text": [
      "Done: n=1000, num_real=1000\n"
     ]
    },
    {
     "data": {
      "application/vnd.jupyter.widget-view+json": {
       "model_id": "1a8cfcac35664a04843f389f345eef85",
       "version_major": 2,
       "version_minor": 0
      },
      "text/plain": [
       "n=10000 | Realisations:   0%|          | 0/1000 [00:00<?, ?it/s]"
      ]
     },
     "metadata": {},
     "output_type": "display_data"
    },
    {
     "name": "stdout",
     "output_type": "stream",
     "text": [
      "Done: n=10000, num_real=1000\n"
     ]
    },
    {
     "data": {
      "text/html": [
       "<div>\n",
       "<style scoped>\n",
       "    .dataframe tbody tr th:only-of-type {\n",
       "        vertical-align: middle;\n",
       "    }\n",
       "\n",
       "    .dataframe tbody tr th {\n",
       "        vertical-align: top;\n",
       "    }\n",
       "\n",
       "    .dataframe thead th {\n",
       "        text-align: right;\n",
       "    }\n",
       "</style>\n",
       "<table border=\"1\" class=\"dataframe\">\n",
       "  <thead>\n",
       "    <tr style=\"text-align: right;\">\n",
       "      <th></th>\n",
       "      <th>normal_10</th>\n",
       "      <th>normal_100</th>\n",
       "      <th>normal_1000</th>\n",
       "      <th>laplace_10</th>\n",
       "      <th>laplace_100</th>\n",
       "      <th>laplace_1000</th>\n",
       "      <th>cauchy_10</th>\n",
       "      <th>cauchy_100</th>\n",
       "      <th>cauchy_1000</th>\n",
       "    </tr>\n",
       "  </thead>\n",
       "  <tbody>\n",
       "    <tr>\n",
       "      <th>1</th>\n",
       "      <td>1.406 ± 1.262</td>\n",
       "      <td>1.076 ± 1.025</td>\n",
       "      <td>0.989 ± 1.028</td>\n",
       "      <td>1.198 ± 0.713</td>\n",
       "      <td>1.022 ± 0.817</td>\n",
       "      <td>1.044 ± 1.011</td>\n",
       "      <td>1.406 ± 52.802</td>\n",
       "      <td>1.076 ± 8.651</td>\n",
       "      <td>0.989 ± 1354.859</td>\n",
       "    </tr>\n",
       "    <tr>\n",
       "      <th>10</th>\n",
       "      <td>0.920 ± 0.330</td>\n",
       "      <td>1.028 ± 0.319</td>\n",
       "      <td>1.026 ± 0.308</td>\n",
       "      <td>1.007 ± 0.128</td>\n",
       "      <td>1.024 ± 0.301</td>\n",
       "      <td>0.989 ± 0.276</td>\n",
       "      <td>0.920 ± 1.071</td>\n",
       "      <td>1.028 ± 737.034</td>\n",
       "      <td>1.026 ± 1181.991</td>\n",
       "    </tr>\n",
       "    <tr>\n",
       "      <th>100</th>\n",
       "      <td>1.047 ± 0.091</td>\n",
       "      <td>0.977 ± 0.108</td>\n",
       "      <td>1.002 ± 0.101</td>\n",
       "      <td>0.994 ± 0.093</td>\n",
       "      <td>1.008 ± 0.068</td>\n",
       "      <td>1.001 ± 0.074</td>\n",
       "      <td>1.047 ± 0.196</td>\n",
       "      <td>0.977 ± 0.247</td>\n",
       "      <td>1.002 ± 0.266</td>\n",
       "    </tr>\n",
       "    <tr>\n",
       "      <th>1000</th>\n",
       "      <td>1.008 ± 0.023</td>\n",
       "      <td>1.000 ± 0.029</td>\n",
       "      <td>0.999 ± 0.032</td>\n",
       "      <td>0.992 ± 0.019</td>\n",
       "      <td>1.001 ± 0.023</td>\n",
       "      <td>1.001 ± 0.023</td>\n",
       "      <td>1.008 ± 0.057</td>\n",
       "      <td>1.000 ± 0.085</td>\n",
       "      <td>0.999 ± 0.085</td>\n",
       "    </tr>\n",
       "    <tr>\n",
       "      <th>10000</th>\n",
       "      <td>1.003 ± 0.012</td>\n",
       "      <td>1.000 ± 0.011</td>\n",
       "      <td>1.000 ± 0.010</td>\n",
       "      <td>0.999 ± 0.007</td>\n",
       "      <td>1.000 ± 0.007</td>\n",
       "      <td>1.000 ± 0.007</td>\n",
       "      <td>1.003 ± 0.026</td>\n",
       "      <td>1.000 ± 0.023</td>\n",
       "      <td>1.000 ± 0.025</td>\n",
       "    </tr>\n",
       "  </tbody>\n",
       "</table>\n",
       "</div>"
      ],
      "text/plain": [
       "           normal_10     normal_100    normal_1000     laplace_10  \\\n",
       "1      1.406 ± 1.262  1.076 ± 1.025  0.989 ± 1.028  1.198 ± 0.713   \n",
       "10     0.920 ± 0.330  1.028 ± 0.319  1.026 ± 0.308  1.007 ± 0.128   \n",
       "100    1.047 ± 0.091  0.977 ± 0.108  1.002 ± 0.101  0.994 ± 0.093   \n",
       "1000   1.008 ± 0.023  1.000 ± 0.029  0.999 ± 0.032  0.992 ± 0.019   \n",
       "10000  1.003 ± 0.012  1.000 ± 0.011  1.000 ± 0.010  0.999 ± 0.007   \n",
       "\n",
       "         laplace_100   laplace_1000       cauchy_10       cauchy_100  \\\n",
       "1      1.022 ± 0.817  1.044 ± 1.011  1.406 ± 52.802    1.076 ± 8.651   \n",
       "10     1.024 ± 0.301  0.989 ± 0.276   0.920 ± 1.071  1.028 ± 737.034   \n",
       "100    1.008 ± 0.068  1.001 ± 0.074   1.047 ± 0.196    0.977 ± 0.247   \n",
       "1000   1.001 ± 0.023  1.001 ± 0.023   1.008 ± 0.057    1.000 ± 0.085   \n",
       "10000  1.000 ± 0.007  1.000 ± 0.007   1.003 ± 0.026    1.000 ± 0.023   \n",
       "\n",
       "            cauchy_1000  \n",
       "1      0.989 ± 1354.859  \n",
       "10     1.026 ± 1181.991  \n",
       "100       1.002 ± 0.266  \n",
       "1000      0.999 ± 0.085  \n",
       "10000     1.000 ± 0.025  "
      ]
     },
     "execution_count": 24,
     "metadata": {},
     "output_type": "execute_result"
    }
   ],
   "source": [
    "a = 1.0\n",
    "df1 = give_dataframe(a, n, num_realisations)\n",
    "df1.head()"
   ]
  },
  {
   "cell_type": "code",
   "execution_count": 25,
   "metadata": {},
   "outputs": [
    {
     "data": {
      "application/vnd.jupyter.widget-view+json": {
       "model_id": "b1cc491018bd4a7c9d6474e5212ae1e9",
       "version_major": 2,
       "version_minor": 0
      },
      "text/plain": [
       "Sample Sizes:   0%|          | 0/5 [00:00<?, ?it/s]"
      ]
     },
     "metadata": {},
     "output_type": "display_data"
    },
    {
     "data": {
      "application/vnd.jupyter.widget-view+json": {
       "model_id": "c9089adc8af44e8caddcaf6604c45bd5",
       "version_major": 2,
       "version_minor": 0
      },
      "text/plain": [
       "n=1 | Realisations:   0%|          | 0/10 [00:00<?, ?it/s]"
      ]
     },
     "metadata": {},
     "output_type": "display_data"
    },
    {
     "name": "stdout",
     "output_type": "stream",
     "text": [
      "Done: n=1, num_real=10\n"
     ]
    },
    {
     "data": {
      "application/vnd.jupyter.widget-view+json": {
       "model_id": "e7e543e1dab8464ebafa7a6fcb029c9e",
       "version_major": 2,
       "version_minor": 0
      },
      "text/plain": [
       "n=10 | Realisations:   0%|          | 0/10 [00:00<?, ?it/s]"
      ]
     },
     "metadata": {},
     "output_type": "display_data"
    },
    {
     "name": "stdout",
     "output_type": "stream",
     "text": [
      "Done: n=10, num_real=10\n"
     ]
    },
    {
     "data": {
      "application/vnd.jupyter.widget-view+json": {
       "model_id": "877a6645e28f483a9c290337ee8de22f",
       "version_major": 2,
       "version_minor": 0
      },
      "text/plain": [
       "n=100 | Realisations:   0%|          | 0/10 [00:00<?, ?it/s]"
      ]
     },
     "metadata": {},
     "output_type": "display_data"
    },
    {
     "name": "stdout",
     "output_type": "stream",
     "text": [
      "Done: n=100, num_real=10\n"
     ]
    },
    {
     "data": {
      "application/vnd.jupyter.widget-view+json": {
       "model_id": "cb122b48b8ab4a47ae10a1b6afd0476b",
       "version_major": 2,
       "version_minor": 0
      },
      "text/plain": [
       "n=1000 | Realisations:   0%|          | 0/10 [00:00<?, ?it/s]"
      ]
     },
     "metadata": {},
     "output_type": "display_data"
    },
    {
     "name": "stdout",
     "output_type": "stream",
     "text": [
      "Done: n=1000, num_real=10\n"
     ]
    },
    {
     "data": {
      "application/vnd.jupyter.widget-view+json": {
       "model_id": "0f1bcb69c1cf46f890ae6bd169cc9fd5",
       "version_major": 2,
       "version_minor": 0
      },
      "text/plain": [
       "n=10000 | Realisations:   0%|          | 0/10 [00:00<?, ?it/s]"
      ]
     },
     "metadata": {},
     "output_type": "display_data"
    },
    {
     "name": "stdout",
     "output_type": "stream",
     "text": [
      "Done: n=10000, num_real=10\n"
     ]
    },
    {
     "data": {
      "application/vnd.jupyter.widget-view+json": {
       "model_id": "54549aff6bf841ed9eabd356bd7d3f31",
       "version_major": 2,
       "version_minor": 0
      },
      "text/plain": [
       "Sample Sizes:   0%|          | 0/5 [00:00<?, ?it/s]"
      ]
     },
     "metadata": {},
     "output_type": "display_data"
    },
    {
     "data": {
      "application/vnd.jupyter.widget-view+json": {
       "model_id": "4e87a8d4a9134e8eb64c63d76a3ed94a",
       "version_major": 2,
       "version_minor": 0
      },
      "text/plain": [
       "n=1 | Realisations:   0%|          | 0/100 [00:00<?, ?it/s]"
      ]
     },
     "metadata": {},
     "output_type": "display_data"
    },
    {
     "name": "stdout",
     "output_type": "stream",
     "text": [
      "Done: n=1, num_real=100\n"
     ]
    },
    {
     "data": {
      "application/vnd.jupyter.widget-view+json": {
       "model_id": "6cdf9b1ecf1a40a9a18014f5fd08974e",
       "version_major": 2,
       "version_minor": 0
      },
      "text/plain": [
       "n=10 | Realisations:   0%|          | 0/100 [00:00<?, ?it/s]"
      ]
     },
     "metadata": {},
     "output_type": "display_data"
    },
    {
     "name": "stdout",
     "output_type": "stream",
     "text": [
      "Done: n=10, num_real=100\n"
     ]
    },
    {
     "data": {
      "application/vnd.jupyter.widget-view+json": {
       "model_id": "8fdea6c686c14bdb81c8f257164c7128",
       "version_major": 2,
       "version_minor": 0
      },
      "text/plain": [
       "n=100 | Realisations:   0%|          | 0/100 [00:00<?, ?it/s]"
      ]
     },
     "metadata": {},
     "output_type": "display_data"
    },
    {
     "name": "stdout",
     "output_type": "stream",
     "text": [
      "Done: n=100, num_real=100\n"
     ]
    },
    {
     "data": {
      "application/vnd.jupyter.widget-view+json": {
       "model_id": "3b1f7d7290ef46a8b59c857b05a8b3f0",
       "version_major": 2,
       "version_minor": 0
      },
      "text/plain": [
       "n=1000 | Realisations:   0%|          | 0/100 [00:00<?, ?it/s]"
      ]
     },
     "metadata": {},
     "output_type": "display_data"
    },
    {
     "name": "stdout",
     "output_type": "stream",
     "text": [
      "Done: n=1000, num_real=100\n"
     ]
    },
    {
     "data": {
      "application/vnd.jupyter.widget-view+json": {
       "model_id": "6ee5217c54364b179227ffc70c87207b",
       "version_major": 2,
       "version_minor": 0
      },
      "text/plain": [
       "n=10000 | Realisations:   0%|          | 0/100 [00:00<?, ?it/s]"
      ]
     },
     "metadata": {},
     "output_type": "display_data"
    },
    {
     "name": "stdout",
     "output_type": "stream",
     "text": [
      "Done: n=10000, num_real=100\n"
     ]
    },
    {
     "data": {
      "application/vnd.jupyter.widget-view+json": {
       "model_id": "c29edeb045a448c0806a43bec8add936",
       "version_major": 2,
       "version_minor": 0
      },
      "text/plain": [
       "Sample Sizes:   0%|          | 0/5 [00:00<?, ?it/s]"
      ]
     },
     "metadata": {},
     "output_type": "display_data"
    },
    {
     "data": {
      "application/vnd.jupyter.widget-view+json": {
       "model_id": "06281673c22f454cb88e03f531c05e57",
       "version_major": 2,
       "version_minor": 0
      },
      "text/plain": [
       "n=1 | Realisations:   0%|          | 0/1000 [00:00<?, ?it/s]"
      ]
     },
     "metadata": {},
     "output_type": "display_data"
    },
    {
     "name": "stdout",
     "output_type": "stream",
     "text": [
      "Done: n=1, num_real=1000\n"
     ]
    },
    {
     "data": {
      "application/vnd.jupyter.widget-view+json": {
       "model_id": "a39320281c714d18848da1deb02339f4",
       "version_major": 2,
       "version_minor": 0
      },
      "text/plain": [
       "n=10 | Realisations:   0%|          | 0/1000 [00:00<?, ?it/s]"
      ]
     },
     "metadata": {},
     "output_type": "display_data"
    },
    {
     "name": "stdout",
     "output_type": "stream",
     "text": [
      "Done: n=10, num_real=1000\n"
     ]
    },
    {
     "data": {
      "application/vnd.jupyter.widget-view+json": {
       "model_id": "32253d1157ad413d93005c46e5443ba0",
       "version_major": 2,
       "version_minor": 0
      },
      "text/plain": [
       "n=100 | Realisations:   0%|          | 0/1000 [00:00<?, ?it/s]"
      ]
     },
     "metadata": {},
     "output_type": "display_data"
    },
    {
     "name": "stdout",
     "output_type": "stream",
     "text": [
      "Done: n=100, num_real=1000\n"
     ]
    },
    {
     "data": {
      "application/vnd.jupyter.widget-view+json": {
       "model_id": "a0feae259aad4f52985764a21daf999c",
       "version_major": 2,
       "version_minor": 0
      },
      "text/plain": [
       "n=1000 | Realisations:   0%|          | 0/1000 [00:00<?, ?it/s]"
      ]
     },
     "metadata": {},
     "output_type": "display_data"
    },
    {
     "name": "stdout",
     "output_type": "stream",
     "text": [
      "Done: n=1000, num_real=1000\n"
     ]
    },
    {
     "data": {
      "application/vnd.jupyter.widget-view+json": {
       "model_id": "945445a2d3c2495a8a0026236718f56e",
       "version_major": 2,
       "version_minor": 0
      },
      "text/plain": [
       "n=10000 | Realisations:   0%|          | 0/1000 [00:00<?, ?it/s]"
      ]
     },
     "metadata": {},
     "output_type": "display_data"
    },
    {
     "name": "stdout",
     "output_type": "stream",
     "text": [
      "Done: n=10000, num_real=1000\n"
     ]
    },
    {
     "data": {
      "text/html": [
       "<div>\n",
       "<style scoped>\n",
       "    .dataframe tbody tr th:only-of-type {\n",
       "        vertical-align: middle;\n",
       "    }\n",
       "\n",
       "    .dataframe tbody tr th {\n",
       "        vertical-align: top;\n",
       "    }\n",
       "\n",
       "    .dataframe thead th {\n",
       "        text-align: right;\n",
       "    }\n",
       "</style>\n",
       "<table border=\"1\" class=\"dataframe\">\n",
       "  <thead>\n",
       "    <tr style=\"text-align: right;\">\n",
       "      <th></th>\n",
       "      <th>normal_10</th>\n",
       "      <th>normal_100</th>\n",
       "      <th>normal_1000</th>\n",
       "      <th>laplace_10</th>\n",
       "      <th>laplace_100</th>\n",
       "      <th>laplace_1000</th>\n",
       "      <th>cauchy_10</th>\n",
       "      <th>cauchy_100</th>\n",
       "      <th>cauchy_1000</th>\n",
       "    </tr>\n",
       "  </thead>\n",
       "  <tbody>\n",
       "    <tr>\n",
       "      <th>1</th>\n",
       "      <td>10.140 ± 1.013</td>\n",
       "      <td>9.886 ± 0.937</td>\n",
       "      <td>9.991 ± 0.988</td>\n",
       "      <td>10.134 ± 0.771</td>\n",
       "      <td>9.887 ± 0.990</td>\n",
       "      <td>10.006 ± 1.000</td>\n",
       "      <td>10.140 ± 2.145</td>\n",
       "      <td>9.886 ± 28.592</td>\n",
       "      <td>9.991 ± 88.591</td>\n",
       "    </tr>\n",
       "    <tr>\n",
       "      <th>10</th>\n",
       "      <td>10.136 ± 0.302</td>\n",
       "      <td>9.980 ± 0.309</td>\n",
       "      <td>10.013 ± 0.313</td>\n",
       "      <td>10.020 ± 0.304</td>\n",
       "      <td>10.039 ± 0.227</td>\n",
       "      <td>10.019 ± 0.266</td>\n",
       "      <td>10.136 ± 3178.535</td>\n",
       "      <td>9.980 ± 807.438</td>\n",
       "      <td>10.013 ± 1134.997</td>\n",
       "    </tr>\n",
       "    <tr>\n",
       "      <th>100</th>\n",
       "      <td>10.016 ± 0.112</td>\n",
       "      <td>10.007 ± 0.102</td>\n",
       "      <td>9.999 ± 0.100</td>\n",
       "      <td>9.991 ± 0.106</td>\n",
       "      <td>10.010 ± 0.078</td>\n",
       "      <td>9.998 ± 0.075</td>\n",
       "      <td>10.016 ± 0.298</td>\n",
       "      <td>10.007 ± 0.270</td>\n",
       "      <td>9.999 ± 0.278</td>\n",
       "    </tr>\n",
       "    <tr>\n",
       "      <th>1000</th>\n",
       "      <td>9.992 ± 0.031</td>\n",
       "      <td>9.996 ± 0.033</td>\n",
       "      <td>10.000 ± 0.031</td>\n",
       "      <td>10.019 ± 0.021</td>\n",
       "      <td>9.999 ± 0.024</td>\n",
       "      <td>9.999 ± 0.022</td>\n",
       "      <td>9.992 ± 0.079</td>\n",
       "      <td>9.996 ± 0.079</td>\n",
       "      <td>10.000 ± 0.086</td>\n",
       "    </tr>\n",
       "    <tr>\n",
       "      <th>10000</th>\n",
       "      <td>10.001 ± 0.011</td>\n",
       "      <td>10.000 ± 0.009</td>\n",
       "      <td>10.000 ± 0.010</td>\n",
       "      <td>10.001 ± 0.007</td>\n",
       "      <td>10.000 ± 0.006</td>\n",
       "      <td>10.000 ± 0.007</td>\n",
       "      <td>10.001 ± 0.036</td>\n",
       "      <td>10.000 ± 0.026</td>\n",
       "      <td>10.000 ± 0.027</td>\n",
       "    </tr>\n",
       "  </tbody>\n",
       "</table>\n",
       "</div>"
      ],
      "text/plain": [
       "            normal_10      normal_100     normal_1000      laplace_10  \\\n",
       "1      10.140 ± 1.013   9.886 ± 0.937   9.991 ± 0.988  10.134 ± 0.771   \n",
       "10     10.136 ± 0.302   9.980 ± 0.309  10.013 ± 0.313  10.020 ± 0.304   \n",
       "100    10.016 ± 0.112  10.007 ± 0.102   9.999 ± 0.100   9.991 ± 0.106   \n",
       "1000    9.992 ± 0.031   9.996 ± 0.033  10.000 ± 0.031  10.019 ± 0.021   \n",
       "10000  10.001 ± 0.011  10.000 ± 0.009  10.000 ± 0.010  10.001 ± 0.007   \n",
       "\n",
       "          laplace_100    laplace_1000          cauchy_10       cauchy_100  \\\n",
       "1       9.887 ± 0.990  10.006 ± 1.000     10.140 ± 2.145   9.886 ± 28.592   \n",
       "10     10.039 ± 0.227  10.019 ± 0.266  10.136 ± 3178.535  9.980 ± 807.438   \n",
       "100    10.010 ± 0.078   9.998 ± 0.075     10.016 ± 0.298   10.007 ± 0.270   \n",
       "1000    9.999 ± 0.024   9.999 ± 0.022      9.992 ± 0.079    9.996 ± 0.079   \n",
       "10000  10.000 ± 0.006  10.000 ± 0.007     10.001 ± 0.036   10.000 ± 0.026   \n",
       "\n",
       "             cauchy_1000  \n",
       "1         9.991 ± 88.591  \n",
       "10     10.013 ± 1134.997  \n",
       "100        9.999 ± 0.278  \n",
       "1000      10.000 ± 0.086  \n",
       "10000     10.000 ± 0.027  "
      ]
     },
     "execution_count": 25,
     "metadata": {},
     "output_type": "execute_result"
    }
   ],
   "source": [
    "a = 10.0\n",
    "df10 = give_dataframe(a, n, num_realisations)\n",
    "df10.head()"
   ]
  },
  {
   "cell_type": "code",
   "execution_count": null,
   "metadata": {},
   "outputs": [],
   "source": [
    "plot_mean_var(stats_10)"
   ]
  },
  {
   "cell_type": "code",
   "execution_count": null,
   "metadata": {},
   "outputs": [],
   "source": [
    "plot_cdf_pdf(n, estimates_1, stats_1)"
   ]
  }
 ],
 "metadata": {
  "kernelspec": {
   "display_name": "est_env",
   "language": "python",
   "name": "python3"
  },
  "language_info": {
   "codemirror_mode": {
    "name": "ipython",
    "version": 3
   },
   "file_extension": ".py",
   "mimetype": "text/x-python",
   "name": "python",
   "nbconvert_exporter": "python",
   "pygments_lexer": "ipython3",
   "version": "3.12.0"
  }
 },
 "nbformat": 4,
 "nbformat_minor": 2
}
