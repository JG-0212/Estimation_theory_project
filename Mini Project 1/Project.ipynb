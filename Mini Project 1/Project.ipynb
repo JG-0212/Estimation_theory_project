{
 "cells": [
  {
   "cell_type": "code",
   "execution_count": 26,
   "metadata": {},
   "outputs": [],
   "source": [
    "import numpy as np\n",
    "import pandas as pd   \n",
    "import scipy\n",
    "import matplotlib.pyplot as plt\n",
    "from tqdm.notebook import tqdm"
   ]
  },
  {
   "cell_type": "code",
   "execution_count": 27,
   "metadata": {},
   "outputs": [],
   "source": [
    "cg = 1.78\n",
    "eps = 1e-2\n",
    "laplace_scale = 1.0 / (2**.5)"
   ]
  },
  {
   "cell_type": "code",
   "execution_count": 28,
   "metadata": {},
   "outputs": [],
   "source": [
    "np.random.seed(50)"
   ]
  },
  {
   "cell_type": "markdown",
   "metadata": {},
   "source": [
    "## Helper Functions"
   ]
  },
  {
   "cell_type": "code",
   "execution_count": 38,
   "metadata": {},
   "outputs": [],
   "source": [
    "def random_generator(n,a,gamma=(2*cg)**.5):\n",
    "    \"\"\"Draws random numbers from normal, laplace and cauchy distributions.\"\"\"\n",
    "    distributions = {}\n",
    "    distributions['normal'] = a + np.random.randn(n)\n",
    "    distributions['laplace'] = a + np.random.laplace(size = n,scale = laplace_scale)\n",
    "    distributions['cauchy'] = a + scipy.stats.cauchy.rvs(size=n,loc = 0, scale = gamma)\n",
    "    return distributions\n",
    "\n",
    "def cauchy_likelihood(data, gamma, a):\n",
    "    return -np.sum(np.log(1 + ((data-a)/gamma)**2))\n",
    "\n",
    "def f(data,gamma,a):\n",
    "    \"\"\"Optimization function for the cauchy distribution (given gamma).\"\"\"\n",
    "    return np.sum((a-data)/(1 + ((data-a)/gamma)**2))\n",
    "\n",
    "def df_da(data,gamma,a):\n",
    "    \"\"\"derivative of f with respect to a.\"\"\"\n",
    "    return np.sum((1 - ((data-a)/gamma)**2)/((1 + ((data-a)/gamma)**2)**2))\n",
    "\n",
    "def nr(data,guess,gamma,iterations=1000):\n",
    "    \"\"\"Newton-Raphson method for estimating the scale parameter of a Cauchy distribution.\"\"\"\n",
    "    for iteration in range(iterations):\n",
    "        y = f(data,gamma, guess)\n",
    "        dy_dA = df_da(data, gamma, guess)\n",
    "        guess -= y/dy_dA\n",
    "        if abs(y) < eps:\n",
    "            break\n",
    "    return guess\n",
    "\n",
    "def grad_desc(data,guess,gamma,iterations=1000):\n",
    "    \"\"\"gradient descent method for estimating the location parameter of a cauchy distribution.\"\"\"\n",
    "    # print(guess)\n",
    "    lr = 1e-3\n",
    "    pguess = 1e5\n",
    "    for _ in range(iterations):\n",
    "        y = f(data,gamma, guess)\n",
    "        # dy_da = df_da(data, gamma, guess)\n",
    "        pguess = guess\n",
    "        guess -= lr*y\n",
    "        if abs(pguess-guess) < eps:\n",
    "            break\n",
    "        # print(guess)\n",
    "    # print(\"over\")\n",
    "    return guess\n",
    "\n",
    "def mle_estimates(distributions, gamma, guess):\n",
    "    \"\"\"Calculates the mle estimates for normal, laplace and cauchy distributions.\"\"\"\n",
    "    estimates = {}\n",
    "    for key in distributions.keys():\n",
    "        if key == 'normal':\n",
    "            estimates[key] = np.mean(distributions[key])\n",
    "        elif key == 'laplace':\n",
    "            estimates[key] = np.median(distributions[key])\n",
    "        elif key == 'cauchy':\n",
    "            estimates[key] = nr(distributions[key], guess, gamma=gamma,iterations=10000)\n",
    "    return estimates\n",
    "\n"
   ]
  },
  {
   "cell_type": "markdown",
   "metadata": {},
   "source": [
    "## Experiments"
   ]
  },
  {
   "cell_type": "code",
   "execution_count": 64,
   "metadata": {},
   "outputs": [],
   "source": [
    "# from tqdm import tqdm\n",
    "\n",
    "def realisations(n, a, num_realisations):\n",
    "    \"\"\"Generates random numbers and calculates MLE estimates for multiple realisations.\"\"\"\n",
    "    estimates = {\"normal\": [], \"laplace\": [], \"cauchy\": []}\n",
    "    \n",
    "    for _ in tqdm(\n",
    "        range(num_realisations),\n",
    "        desc=f\"n={n} | Realisations\",\n",
    "        leave=False,\n",
    "        dynamic_ncols=True,\n",
    "    ):\n",
    "        distributions = random_generator(n, a)\n",
    "        if n%2 != 0:\n",
    "            estimate = mle_estimates(distributions, gamma=(2 * cg) ** 0.5, guess=np.median(distributions[\"cauchy\"]))\n",
    "        else:\n",
    "            estimate1 = mle_estimates(distributions, gamma=(2 * cg) ** 0.5, guess=sorted(distributions[\"cauchy\"])[int(n/2)])\n",
    "            estimate2 = mle_estimates(distributions, gamma=(2 * cg) ** 0.5, guess=sorted(distributions[\"cauchy\"])[int(n/2)-1])\n",
    "\n",
    "            if (cauchy_likelihood(distributions[\"cauchy\"],(2 * cg) ** 0.5,estimate1[\"cauchy\"])\n",
    "               <cauchy_likelihood(distributions[\"cauchy\"],(2 * cg) ** 0.5,estimate2[\"cauchy\"])):\n",
    "                estimate  = estimate1\n",
    "            else:\n",
    "                estimate = estimate2\n",
    "\n",
    "        for key in estimate:\n",
    "            estimates[key].append(estimate[key])\n",
    "    \n",
    "    return estimates\n",
    "\n",
    "def get_statistics(estimates):\n",
    "    \"\"\"Calculates mean and standard deviation of MLE estimates.\"\"\"\n",
    "    statistics = {}\n",
    "    for key in estimates:\n",
    "        statistics[key] = {\n",
    "            'mean': np.mean(estimates[key]),\n",
    "            'var': np.var(estimates[key])\n",
    "        }\n",
    "    return statistics\n",
    "\n",
    "def iter_over_sample_size(ns, a, num_realisations):\n",
    "    \"\"\"Iterates over different sample sizes and calculates MLE estimates.\"\"\"\n",
    "    estimates = {}\n",
    "    stats = {}\n",
    "\n",
    "    outer = tqdm(ns, desc=\"Sample Sizes\", dynamic_ncols=True)\n",
    "    for n in outer:\n",
    "        outer.set_description(f\"Sample size: n={n}\")\n",
    "        estimates[n] = realisations(n, a, num_realisations)\n",
    "        stats[n] = get_statistics(estimates[n])\n",
    "        outer.write(f\"Done: n={n}, num_real={num_realisations}\")\n",
    "    \n",
    "    return estimates, stats\n",
    "\n",
    "def give_dataframe(a, sample_sizes, num_realisations):\n",
    "    data = {}\n",
    "    for ni in sample_sizes:\n",
    "        data[f\"{ni}\"]={}\n",
    "        for nri in num_realisations:\n",
    "            data[f\"{ni}\"][f\"normal_{nri}\"]={}\n",
    "            data[f\"{ni}\"][f\"laplace_{nri}\"]={}\n",
    "            data[f\"{ni}\"][f\"cauchy_{nri}\"]={}\n",
    "            \n",
    "    for nr in num_realisations:\n",
    "        _, stats = iter_over_sample_size(sample_sizes, a, nr)\n",
    "        for ni in sample_sizes:\n",
    "            data[f\"{ni}\"][f\"normal_{nr}\"] = rf\"{stats[ni][\"normal\"][\"mean\"]:.3f} ± {np.sqrt(stats[ni][\"normal\"][\"var\"]):.3f}\"\n",
    "            data[f\"{ni}\"][f\"laplace_{nr}\"] = rf\"{stats[ni][\"laplace\"][\"mean\"]:.3f} ± {np.sqrt(stats[ni][\"laplace\"][\"var\"]):.3f}\"\n",
    "            data[f\"{ni}\"][f\"cauchy_{nr}\"] = rf\"{stats[ni][\"normal\"][\"mean\"]:.3f} ± {np.sqrt(stats[ni][\"cauchy\"][\"var\"]):.3f}\"\n",
    "    df = pd.DataFrame(data).T\n",
    "    ordered_cols = [f\"normal_{nr}\" for nr in num_realisations]\n",
    "    ordered_cols.extend([f\"laplace_{nr}\" for nr in num_realisations])\n",
    "    ordered_cols.extend([f\"cauchy_{nr}\" for nr in num_realisations])\n",
    "    df = df.loc[:,ordered_cols]\n",
    "    return df\n"
   ]
  },
  {
   "cell_type": "markdown",
   "metadata": {},
   "source": [
    "## Plotting functions"
   ]
  },
  {
   "cell_type": "code",
   "execution_count": 65,
   "metadata": {},
   "outputs": [],
   "source": [
    "def plot_cdf(data, stat ,label='CDF', color='blue', axis=None):\n",
    "    \"\"\"Plots the CDF of the data.\"\"\"\n",
    "    if axis is None:\n",
    "        _, axis = plt.subplots(figsize=(5, 5), layout=\"constrained\")\n",
    "    sorted_data = np.sort(data)\n",
    "    cdf = np.linspace(0, 1, len(sorted_data))\n",
    "    axis.step(sorted_data, cdf, where='post', label=label, color=color)\n",
    "    axis.set_xlabel(r'Value of $\\hat{a}$')\n",
    "    axis.set_ylabel('Cumulative Probability')\n",
    "    axis.set_title(f\"CDF of {label} with mean: {stat['mean']:.3E} var: {stat['var']:.3E}\")\n",
    "    axis.set_xlim(max(-2,np.min(data)), min(4,np.max(data)))\n",
    "    # plt.legend()\n",
    "    # plt.show()\n",
    "\n",
    "def plot_cdf_pdf(ns,estimates,stats):\n",
    "    for n in ns:\n",
    "        _, axs = plt.subplots(3, 2, figsize=(10, 5), layout=\"constrained\")\n",
    "        for i,key in enumerate(estimates[n].keys()):\n",
    "            axs[i,0].hist(estimates[n][key], density=True, bins=100, alpha=0.5, color='blue', label='PDF',range=(max(-2,np.min(estimates[n][key])), min(4,np.max(estimates[n][key]))))\n",
    "            axs[i,0].set_title(f\"PDF of {key} with sample size {n}\")\n",
    "            plot_cdf(estimates[n][key], stats[n][key], label=key, color='blue', axis=axs[i,1])\n",
    "            axs[i,1].set_title(f\"CDF of {key} with sample size {n}\")\n",
    "        plt.show()\n",
    "\n",
    "def plot_mean_var(stats):\n",
    "    _, axs = plt.subplots(1, 2, figsize=(10, 5), layout=\"constrained\")\n",
    "    mean, var = {\"normal\": [], \"laplace\": [], \"cauchy\": []},{\"normal\": [], \"laplace\": [], \"cauchy\": []}\n",
    "    for n in stats.keys():\n",
    "        for key in mean.keys():\n",
    "            mean[key].append(stats[n][key]['mean'])\n",
    "            var[key].append(stats[n][key]['var'])\n",
    "    for key in mean.keys():\n",
    "        axs[0].semilogy(stats.keys(), mean[key], label=key)\n",
    "        axs[1].semilogy(stats.keys(), var[key], label=key)\n",
    "    axs[0].set_xlabel(r'Sample Size')\n",
    "    axs[0].set_ylabel(r'Mean of $\\hat{a}$')\n",
    "    axs[0].set_title(r'Mean of $\\hat{a}$')\n",
    "    # axs[0].set_xscale(r'log')\n",
    "    axs[1].set_xlabel(r'Sample Size')\n",
    "    axs[1].set_ylabel(r'Variance of $\\hat{a}$')\n",
    "    axs[1].set_title(r'Variance of $\\hat{a}$')\n",
    "    # axs[1].set_xscale(r'log')\n",
    "    axs[0].legend()\n",
    "    axs[1].legend()\n",
    "    plt.show()"
   ]
  },
  {
   "cell_type": "code",
   "execution_count": 68,
   "metadata": {},
   "outputs": [],
   "source": [
    "n = [1, 10, 100, 1000, 10000]#, 1000, 10000]\n",
    "num_realisations = [10,100,1000]"
   ]
  },
  {
   "cell_type": "code",
   "execution_count": 69,
   "metadata": {},
   "outputs": [
    {
     "data": {
      "application/vnd.jupyter.widget-view+json": {
       "model_id": "b6b9cd9c362a421c81bcf69dd225bf3e",
       "version_major": 2,
       "version_minor": 0
      },
      "text/plain": [
       "Sample Sizes:   0%|          | 0/5 [00:00<?, ?it/s]"
      ]
     },
     "metadata": {},
     "output_type": "display_data"
    },
    {
     "data": {
      "application/vnd.jupyter.widget-view+json": {
       "model_id": "66881af01992411992ac647fdd620de7",
       "version_major": 2,
       "version_minor": 0
      },
      "text/plain": [
       "n=1 | Realisations:   0%|          | 0/10 [00:00<?, ?it/s]"
      ]
     },
     "metadata": {},
     "output_type": "display_data"
    },
    {
     "name": "stdout",
     "output_type": "stream",
     "text": [
      "Done: n=1, num_real=10\n"
     ]
    },
    {
     "data": {
      "application/vnd.jupyter.widget-view+json": {
       "model_id": "a1458fdbe76849589777a15a5a508350",
       "version_major": 2,
       "version_minor": 0
      },
      "text/plain": [
       "n=10 | Realisations:   0%|          | 0/10 [00:00<?, ?it/s]"
      ]
     },
     "metadata": {},
     "output_type": "display_data"
    },
    {
     "name": "stdout",
     "output_type": "stream",
     "text": [
      "Done: n=10, num_real=10\n"
     ]
    },
    {
     "data": {
      "application/vnd.jupyter.widget-view+json": {
       "model_id": "85ef3a9736ca49a89768d211736932af",
       "version_major": 2,
       "version_minor": 0
      },
      "text/plain": [
       "n=100 | Realisations:   0%|          | 0/10 [00:00<?, ?it/s]"
      ]
     },
     "metadata": {},
     "output_type": "display_data"
    },
    {
     "name": "stdout",
     "output_type": "stream",
     "text": [
      "Done: n=100, num_real=10\n"
     ]
    },
    {
     "data": {
      "application/vnd.jupyter.widget-view+json": {
       "model_id": "b3bcf41ae177499cac34a8b8030c1272",
       "version_major": 2,
       "version_minor": 0
      },
      "text/plain": [
       "n=1000 | Realisations:   0%|          | 0/10 [00:00<?, ?it/s]"
      ]
     },
     "metadata": {},
     "output_type": "display_data"
    },
    {
     "name": "stdout",
     "output_type": "stream",
     "text": [
      "Done: n=1000, num_real=10\n"
     ]
    },
    {
     "data": {
      "application/vnd.jupyter.widget-view+json": {
       "model_id": "b6ca69dc2fd84f81b160fc4228e59faa",
       "version_major": 2,
       "version_minor": 0
      },
      "text/plain": [
       "n=10000 | Realisations:   0%|          | 0/10 [00:00<?, ?it/s]"
      ]
     },
     "metadata": {},
     "output_type": "display_data"
    },
    {
     "name": "stdout",
     "output_type": "stream",
     "text": [
      "Done: n=10000, num_real=10\n"
     ]
    },
    {
     "data": {
      "application/vnd.jupyter.widget-view+json": {
       "model_id": "3e6e19ed46024e06939de6cd4d36c722",
       "version_major": 2,
       "version_minor": 0
      },
      "text/plain": [
       "Sample Sizes:   0%|          | 0/5 [00:00<?, ?it/s]"
      ]
     },
     "metadata": {},
     "output_type": "display_data"
    },
    {
     "data": {
      "application/vnd.jupyter.widget-view+json": {
       "model_id": "c38275c2db6c4428af0e0504fa717127",
       "version_major": 2,
       "version_minor": 0
      },
      "text/plain": [
       "n=1 | Realisations:   0%|          | 0/100 [00:00<?, ?it/s]"
      ]
     },
     "metadata": {},
     "output_type": "display_data"
    },
    {
     "name": "stdout",
     "output_type": "stream",
     "text": [
      "Done: n=1, num_real=100\n"
     ]
    },
    {
     "data": {
      "application/vnd.jupyter.widget-view+json": {
       "model_id": "234b424a8f78443092e43cb668f6c9b2",
       "version_major": 2,
       "version_minor": 0
      },
      "text/plain": [
       "n=10 | Realisations:   0%|          | 0/100 [00:00<?, ?it/s]"
      ]
     },
     "metadata": {},
     "output_type": "display_data"
    },
    {
     "name": "stdout",
     "output_type": "stream",
     "text": [
      "Done: n=10, num_real=100\n"
     ]
    },
    {
     "data": {
      "application/vnd.jupyter.widget-view+json": {
       "model_id": "9f12fb7ca0d0419183e1f14e837457ad",
       "version_major": 2,
       "version_minor": 0
      },
      "text/plain": [
       "n=100 | Realisations:   0%|          | 0/100 [00:00<?, ?it/s]"
      ]
     },
     "metadata": {},
     "output_type": "display_data"
    },
    {
     "name": "stdout",
     "output_type": "stream",
     "text": [
      "Done: n=100, num_real=100\n"
     ]
    },
    {
     "data": {
      "application/vnd.jupyter.widget-view+json": {
       "model_id": "78b917701a5d4a31b73f5207d8f1285d",
       "version_major": 2,
       "version_minor": 0
      },
      "text/plain": [
       "n=1000 | Realisations:   0%|          | 0/100 [00:00<?, ?it/s]"
      ]
     },
     "metadata": {},
     "output_type": "display_data"
    },
    {
     "name": "stdout",
     "output_type": "stream",
     "text": [
      "Done: n=1000, num_real=100\n"
     ]
    },
    {
     "data": {
      "application/vnd.jupyter.widget-view+json": {
       "model_id": "625c086a3fb04841b37748d2be8176fb",
       "version_major": 2,
       "version_minor": 0
      },
      "text/plain": [
       "n=10000 | Realisations:   0%|          | 0/100 [00:00<?, ?it/s]"
      ]
     },
     "metadata": {},
     "output_type": "display_data"
    },
    {
     "name": "stdout",
     "output_type": "stream",
     "text": [
      "Done: n=10000, num_real=100\n"
     ]
    },
    {
     "data": {
      "application/vnd.jupyter.widget-view+json": {
       "model_id": "4312d1fe4df6489d88db23e3f7d78202",
       "version_major": 2,
       "version_minor": 0
      },
      "text/plain": [
       "Sample Sizes:   0%|          | 0/5 [00:00<?, ?it/s]"
      ]
     },
     "metadata": {},
     "output_type": "display_data"
    },
    {
     "data": {
      "application/vnd.jupyter.widget-view+json": {
       "model_id": "4d37863df6994b3b958be93cdaffd14b",
       "version_major": 2,
       "version_minor": 0
      },
      "text/plain": [
       "n=1 | Realisations:   0%|          | 0/1000 [00:00<?, ?it/s]"
      ]
     },
     "metadata": {},
     "output_type": "display_data"
    },
    {
     "name": "stdout",
     "output_type": "stream",
     "text": [
      "Done: n=1, num_real=1000\n"
     ]
    },
    {
     "data": {
      "application/vnd.jupyter.widget-view+json": {
       "model_id": "7259ac81ede54e33bccdd80846f80715",
       "version_major": 2,
       "version_minor": 0
      },
      "text/plain": [
       "n=10 | Realisations:   0%|          | 0/1000 [00:00<?, ?it/s]"
      ]
     },
     "metadata": {},
     "output_type": "display_data"
    },
    {
     "name": "stdout",
     "output_type": "stream",
     "text": [
      "Done: n=10, num_real=1000\n"
     ]
    },
    {
     "data": {
      "application/vnd.jupyter.widget-view+json": {
       "model_id": "963e5536004f443991c7cd6127eb3dbb",
       "version_major": 2,
       "version_minor": 0
      },
      "text/plain": [
       "n=100 | Realisations:   0%|          | 0/1000 [00:00<?, ?it/s]"
      ]
     },
     "metadata": {},
     "output_type": "display_data"
    },
    {
     "name": "stdout",
     "output_type": "stream",
     "text": [
      "Done: n=100, num_real=1000\n"
     ]
    },
    {
     "data": {
      "application/vnd.jupyter.widget-view+json": {
       "model_id": "1c7147c13ccc4fd0b1bfc06d60e835a1",
       "version_major": 2,
       "version_minor": 0
      },
      "text/plain": [
       "n=1000 | Realisations:   0%|          | 0/1000 [00:00<?, ?it/s]"
      ]
     },
     "metadata": {},
     "output_type": "display_data"
    },
    {
     "name": "stdout",
     "output_type": "stream",
     "text": [
      "Done: n=1000, num_real=1000\n"
     ]
    },
    {
     "data": {
      "application/vnd.jupyter.widget-view+json": {
       "model_id": "adfdbb4b752b40fda70ea6bbb2df18e2",
       "version_major": 2,
       "version_minor": 0
      },
      "text/plain": [
       "n=10000 | Realisations:   0%|          | 0/1000 [00:00<?, ?it/s]"
      ]
     },
     "metadata": {},
     "output_type": "display_data"
    },
    {
     "name": "stdout",
     "output_type": "stream",
     "text": [
      "Done: n=10000, num_real=1000\n"
     ]
    },
    {
     "data": {
      "text/html": [
       "<div>\n",
       "<style scoped>\n",
       "    .dataframe tbody tr th:only-of-type {\n",
       "        vertical-align: middle;\n",
       "    }\n",
       "\n",
       "    .dataframe tbody tr th {\n",
       "        vertical-align: top;\n",
       "    }\n",
       "\n",
       "    .dataframe thead th {\n",
       "        text-align: right;\n",
       "    }\n",
       "</style>\n",
       "<table border=\"1\" class=\"dataframe\">\n",
       "  <thead>\n",
       "    <tr style=\"text-align: right;\">\n",
       "      <th></th>\n",
       "      <th>normal_10</th>\n",
       "      <th>normal_100</th>\n",
       "      <th>normal_1000</th>\n",
       "      <th>laplace_10</th>\n",
       "      <th>laplace_100</th>\n",
       "      <th>laplace_1000</th>\n",
       "      <th>cauchy_10</th>\n",
       "      <th>cauchy_100</th>\n",
       "      <th>cauchy_1000</th>\n",
       "    </tr>\n",
       "  </thead>\n",
       "  <tbody>\n",
       "    <tr>\n",
       "      <th>1</th>\n",
       "      <td>0.536 ± 1.054</td>\n",
       "      <td>1.002 ± 0.938</td>\n",
       "      <td>1.024 ± 0.958</td>\n",
       "      <td>1.330 ± 1.359</td>\n",
       "      <td>0.982 ± 1.033</td>\n",
       "      <td>0.993 ± 1.024</td>\n",
       "      <td>0.536 ± 43.096</td>\n",
       "      <td>1.002 ± 67.971</td>\n",
       "      <td>1.024 ± 54.052</td>\n",
       "    </tr>\n",
       "    <tr>\n",
       "      <th>10</th>\n",
       "      <td>0.862 ± 0.291</td>\n",
       "      <td>0.982 ± 0.326</td>\n",
       "      <td>1.006 ± 0.313</td>\n",
       "      <td>1.071 ± 0.234</td>\n",
       "      <td>0.971 ± 0.283</td>\n",
       "      <td>1.001 ± 0.257</td>\n",
       "      <td>0.862 ± 0.651</td>\n",
       "      <td>0.982 ± 853.603</td>\n",
       "      <td>1.006 ± 1097.508</td>\n",
       "    </tr>\n",
       "    <tr>\n",
       "      <th>100</th>\n",
       "      <td>0.943 ± 0.096</td>\n",
       "      <td>0.982 ± 0.110</td>\n",
       "      <td>0.999 ± 0.100</td>\n",
       "      <td>1.005 ± 0.060</td>\n",
       "      <td>0.997 ± 0.085</td>\n",
       "      <td>1.002 ± 0.071</td>\n",
       "      <td>0.943 ± 0.306</td>\n",
       "      <td>0.982 ± 0.274</td>\n",
       "      <td>0.999 ± 0.274</td>\n",
       "    </tr>\n",
       "    <tr>\n",
       "      <th>1000</th>\n",
       "      <td>0.986 ± 0.022</td>\n",
       "      <td>1.006 ± 0.030</td>\n",
       "      <td>1.000 ± 0.031</td>\n",
       "      <td>0.988 ± 0.027</td>\n",
       "      <td>1.002 ± 0.019</td>\n",
       "      <td>1.000 ± 0.023</td>\n",
       "      <td>0.986 ± 0.083</td>\n",
       "      <td>1.006 ± 0.081</td>\n",
       "      <td>1.000 ± 0.085</td>\n",
       "    </tr>\n",
       "    <tr>\n",
       "      <th>10000</th>\n",
       "      <td>1.002 ± 0.011</td>\n",
       "      <td>0.999 ± 0.010</td>\n",
       "      <td>1.000 ± 0.010</td>\n",
       "      <td>0.999 ± 0.005</td>\n",
       "      <td>1.000 ± 0.007</td>\n",
       "      <td>1.000 ± 0.007</td>\n",
       "      <td>1.002 ± 0.022</td>\n",
       "      <td>0.999 ± 0.024</td>\n",
       "      <td>1.000 ± 0.028</td>\n",
       "    </tr>\n",
       "  </tbody>\n",
       "</table>\n",
       "</div>"
      ],
      "text/plain": [
       "           normal_10     normal_100    normal_1000     laplace_10  \\\n",
       "1      0.536 ± 1.054  1.002 ± 0.938  1.024 ± 0.958  1.330 ± 1.359   \n",
       "10     0.862 ± 0.291  0.982 ± 0.326  1.006 ± 0.313  1.071 ± 0.234   \n",
       "100    0.943 ± 0.096  0.982 ± 0.110  0.999 ± 0.100  1.005 ± 0.060   \n",
       "1000   0.986 ± 0.022  1.006 ± 0.030  1.000 ± 0.031  0.988 ± 0.027   \n",
       "10000  1.002 ± 0.011  0.999 ± 0.010  1.000 ± 0.010  0.999 ± 0.005   \n",
       "\n",
       "         laplace_100   laplace_1000       cauchy_10       cauchy_100  \\\n",
       "1      0.982 ± 1.033  0.993 ± 1.024  0.536 ± 43.096   1.002 ± 67.971   \n",
       "10     0.971 ± 0.283  1.001 ± 0.257   0.862 ± 0.651  0.982 ± 853.603   \n",
       "100    0.997 ± 0.085  1.002 ± 0.071   0.943 ± 0.306    0.982 ± 0.274   \n",
       "1000   1.002 ± 0.019  1.000 ± 0.023   0.986 ± 0.083    1.006 ± 0.081   \n",
       "10000  1.000 ± 0.007  1.000 ± 0.007   1.002 ± 0.022    0.999 ± 0.024   \n",
       "\n",
       "            cauchy_1000  \n",
       "1        1.024 ± 54.052  \n",
       "10     1.006 ± 1097.508  \n",
       "100       0.999 ± 0.274  \n",
       "1000      1.000 ± 0.085  \n",
       "10000     1.000 ± 0.028  "
      ]
     },
     "execution_count": 69,
     "metadata": {},
     "output_type": "execute_result"
    }
   ],
   "source": [
    "a = 1.0\n",
    "df1 = give_dataframe(a, n, num_realisations)\n",
    "df1.head()"
   ]
  },
  {
   "cell_type": "code",
   "execution_count": 70,
   "metadata": {},
   "outputs": [
    {
     "data": {
      "application/vnd.jupyter.widget-view+json": {
       "model_id": "36aaefa1a8754022b1bee74c8fcbef96",
       "version_major": 2,
       "version_minor": 0
      },
      "text/plain": [
       "Sample Sizes:   0%|          | 0/5 [00:00<?, ?it/s]"
      ]
     },
     "metadata": {},
     "output_type": "display_data"
    },
    {
     "data": {
      "application/vnd.jupyter.widget-view+json": {
       "model_id": "1a16bac8b31a43c59c612de632fc8fb5",
       "version_major": 2,
       "version_minor": 0
      },
      "text/plain": [
       "n=1 | Realisations:   0%|          | 0/10 [00:00<?, ?it/s]"
      ]
     },
     "metadata": {},
     "output_type": "display_data"
    },
    {
     "name": "stdout",
     "output_type": "stream",
     "text": [
      "Done: n=1, num_real=10\n"
     ]
    },
    {
     "data": {
      "application/vnd.jupyter.widget-view+json": {
       "model_id": "ab46ac6b11c041bfb0120608ea02036c",
       "version_major": 2,
       "version_minor": 0
      },
      "text/plain": [
       "n=10 | Realisations:   0%|          | 0/10 [00:00<?, ?it/s]"
      ]
     },
     "metadata": {},
     "output_type": "display_data"
    },
    {
     "name": "stdout",
     "output_type": "stream",
     "text": [
      "Done: n=10, num_real=10\n"
     ]
    },
    {
     "data": {
      "application/vnd.jupyter.widget-view+json": {
       "model_id": "c3fc361b18424f5981a2da06d0436706",
       "version_major": 2,
       "version_minor": 0
      },
      "text/plain": [
       "n=100 | Realisations:   0%|          | 0/10 [00:00<?, ?it/s]"
      ]
     },
     "metadata": {},
     "output_type": "display_data"
    },
    {
     "name": "stdout",
     "output_type": "stream",
     "text": [
      "Done: n=100, num_real=10\n"
     ]
    },
    {
     "data": {
      "application/vnd.jupyter.widget-view+json": {
       "model_id": "edb680afeac947e38a823e8cf3035092",
       "version_major": 2,
       "version_minor": 0
      },
      "text/plain": [
       "n=1000 | Realisations:   0%|          | 0/10 [00:00<?, ?it/s]"
      ]
     },
     "metadata": {},
     "output_type": "display_data"
    },
    {
     "name": "stdout",
     "output_type": "stream",
     "text": [
      "Done: n=1000, num_real=10\n"
     ]
    },
    {
     "data": {
      "application/vnd.jupyter.widget-view+json": {
       "model_id": "ca309aad8f0f4d969948355119f83dd2",
       "version_major": 2,
       "version_minor": 0
      },
      "text/plain": [
       "n=10000 | Realisations:   0%|          | 0/10 [00:00<?, ?it/s]"
      ]
     },
     "metadata": {},
     "output_type": "display_data"
    },
    {
     "name": "stdout",
     "output_type": "stream",
     "text": [
      "Done: n=10000, num_real=10\n"
     ]
    },
    {
     "data": {
      "application/vnd.jupyter.widget-view+json": {
       "model_id": "5c5edcb663fb4811805a83640ba9f2b3",
       "version_major": 2,
       "version_minor": 0
      },
      "text/plain": [
       "Sample Sizes:   0%|          | 0/5 [00:00<?, ?it/s]"
      ]
     },
     "metadata": {},
     "output_type": "display_data"
    },
    {
     "data": {
      "application/vnd.jupyter.widget-view+json": {
       "model_id": "dd015391c3d54529912d8e1083200c29",
       "version_major": 2,
       "version_minor": 0
      },
      "text/plain": [
       "n=1 | Realisations:   0%|          | 0/100 [00:00<?, ?it/s]"
      ]
     },
     "metadata": {},
     "output_type": "display_data"
    },
    {
     "name": "stdout",
     "output_type": "stream",
     "text": [
      "Done: n=1, num_real=100\n"
     ]
    },
    {
     "data": {
      "application/vnd.jupyter.widget-view+json": {
       "model_id": "b668586aeafd4870b97542068548487c",
       "version_major": 2,
       "version_minor": 0
      },
      "text/plain": [
       "n=10 | Realisations:   0%|          | 0/100 [00:00<?, ?it/s]"
      ]
     },
     "metadata": {},
     "output_type": "display_data"
    },
    {
     "name": "stdout",
     "output_type": "stream",
     "text": [
      "Done: n=10, num_real=100\n"
     ]
    },
    {
     "data": {
      "application/vnd.jupyter.widget-view+json": {
       "model_id": "c0b38395d90b45c0be2196dfcc0d5aaa",
       "version_major": 2,
       "version_minor": 0
      },
      "text/plain": [
       "n=100 | Realisations:   0%|          | 0/100 [00:00<?, ?it/s]"
      ]
     },
     "metadata": {},
     "output_type": "display_data"
    },
    {
     "name": "stdout",
     "output_type": "stream",
     "text": [
      "Done: n=100, num_real=100\n"
     ]
    },
    {
     "data": {
      "application/vnd.jupyter.widget-view+json": {
       "model_id": "54c699d99a3245e88f27c69edb06252f",
       "version_major": 2,
       "version_minor": 0
      },
      "text/plain": [
       "n=1000 | Realisations:   0%|          | 0/100 [00:00<?, ?it/s]"
      ]
     },
     "metadata": {},
     "output_type": "display_data"
    },
    {
     "name": "stdout",
     "output_type": "stream",
     "text": [
      "Done: n=1000, num_real=100\n"
     ]
    },
    {
     "data": {
      "application/vnd.jupyter.widget-view+json": {
       "model_id": "75a0fcea3c764b3a9c7c7494d0a107a6",
       "version_major": 2,
       "version_minor": 0
      },
      "text/plain": [
       "n=10000 | Realisations:   0%|          | 0/100 [00:00<?, ?it/s]"
      ]
     },
     "metadata": {},
     "output_type": "display_data"
    },
    {
     "name": "stdout",
     "output_type": "stream",
     "text": [
      "Done: n=10000, num_real=100\n"
     ]
    },
    {
     "data": {
      "application/vnd.jupyter.widget-view+json": {
       "model_id": "00a67fdb87734d6ea89b3b0e1bd6c21a",
       "version_major": 2,
       "version_minor": 0
      },
      "text/plain": [
       "Sample Sizes:   0%|          | 0/5 [00:00<?, ?it/s]"
      ]
     },
     "metadata": {},
     "output_type": "display_data"
    },
    {
     "data": {
      "application/vnd.jupyter.widget-view+json": {
       "model_id": "34e60bdd7a39458ab0b6eb2409806145",
       "version_major": 2,
       "version_minor": 0
      },
      "text/plain": [
       "n=1 | Realisations:   0%|          | 0/1000 [00:00<?, ?it/s]"
      ]
     },
     "metadata": {},
     "output_type": "display_data"
    },
    {
     "name": "stdout",
     "output_type": "stream",
     "text": [
      "Done: n=1, num_real=1000\n"
     ]
    },
    {
     "data": {
      "application/vnd.jupyter.widget-view+json": {
       "model_id": "6cc6bd102ae64f30b7b27ae7ba1245bd",
       "version_major": 2,
       "version_minor": 0
      },
      "text/plain": [
       "n=10 | Realisations:   0%|          | 0/1000 [00:00<?, ?it/s]"
      ]
     },
     "metadata": {},
     "output_type": "display_data"
    },
    {
     "name": "stdout",
     "output_type": "stream",
     "text": [
      "Done: n=10, num_real=1000\n"
     ]
    },
    {
     "data": {
      "application/vnd.jupyter.widget-view+json": {
       "model_id": "e4620e7397664f75b6f4f555f6ffdff1",
       "version_major": 2,
       "version_minor": 0
      },
      "text/plain": [
       "n=100 | Realisations:   0%|          | 0/1000 [00:00<?, ?it/s]"
      ]
     },
     "metadata": {},
     "output_type": "display_data"
    },
    {
     "name": "stdout",
     "output_type": "stream",
     "text": [
      "Done: n=100, num_real=1000\n"
     ]
    },
    {
     "data": {
      "application/vnd.jupyter.widget-view+json": {
       "model_id": "8a24f4a00fa04ad4a8e16f662b589714",
       "version_major": 2,
       "version_minor": 0
      },
      "text/plain": [
       "n=1000 | Realisations:   0%|          | 0/1000 [00:00<?, ?it/s]"
      ]
     },
     "metadata": {},
     "output_type": "display_data"
    },
    {
     "name": "stdout",
     "output_type": "stream",
     "text": [
      "Done: n=1000, num_real=1000\n"
     ]
    },
    {
     "data": {
      "application/vnd.jupyter.widget-view+json": {
       "model_id": "c00ca4f6891a48528605c3c73c001ce4",
       "version_major": 2,
       "version_minor": 0
      },
      "text/plain": [
       "n=10000 | Realisations:   0%|          | 0/1000 [00:00<?, ?it/s]"
      ]
     },
     "metadata": {},
     "output_type": "display_data"
    },
    {
     "name": "stdout",
     "output_type": "stream",
     "text": [
      "Done: n=10000, num_real=1000\n"
     ]
    },
    {
     "data": {
      "text/html": [
       "<div>\n",
       "<style scoped>\n",
       "    .dataframe tbody tr th:only-of-type {\n",
       "        vertical-align: middle;\n",
       "    }\n",
       "\n",
       "    .dataframe tbody tr th {\n",
       "        vertical-align: top;\n",
       "    }\n",
       "\n",
       "    .dataframe thead th {\n",
       "        text-align: right;\n",
       "    }\n",
       "</style>\n",
       "<table border=\"1\" class=\"dataframe\">\n",
       "  <thead>\n",
       "    <tr style=\"text-align: right;\">\n",
       "      <th></th>\n",
       "      <th>normal_10</th>\n",
       "      <th>normal_100</th>\n",
       "      <th>normal_1000</th>\n",
       "      <th>laplace_10</th>\n",
       "      <th>laplace_100</th>\n",
       "      <th>laplace_1000</th>\n",
       "      <th>cauchy_10</th>\n",
       "      <th>cauchy_100</th>\n",
       "      <th>cauchy_1000</th>\n",
       "    </tr>\n",
       "  </thead>\n",
       "  <tbody>\n",
       "    <tr>\n",
       "      <th>1</th>\n",
       "      <td>9.930 ± 0.816</td>\n",
       "      <td>9.932 ± 0.945</td>\n",
       "      <td>10.008 ± 0.980</td>\n",
       "      <td>10.438 ± 0.423</td>\n",
       "      <td>10.038 ± 1.073</td>\n",
       "      <td>9.956 ± 1.096</td>\n",
       "      <td>9.930 ± 82.050</td>\n",
       "      <td>9.932 ± 14.156</td>\n",
       "      <td>10.008 ± 80.940</td>\n",
       "    </tr>\n",
       "    <tr>\n",
       "      <th>10</th>\n",
       "      <td>10.073 ± 0.349</td>\n",
       "      <td>9.928 ± 0.314</td>\n",
       "      <td>10.000 ± 0.308</td>\n",
       "      <td>9.905 ± 0.307</td>\n",
       "      <td>9.932 ± 0.267</td>\n",
       "      <td>10.001 ± 0.263</td>\n",
       "      <td>10.073 ± 1.049</td>\n",
       "      <td>9.928 ± 1654.616</td>\n",
       "      <td>10.000 ± 1163.359</td>\n",
       "    </tr>\n",
       "    <tr>\n",
       "      <th>100</th>\n",
       "      <td>10.054 ± 0.105</td>\n",
       "      <td>9.982 ± 0.097</td>\n",
       "      <td>10.001 ± 0.100</td>\n",
       "      <td>9.977 ± 0.082</td>\n",
       "      <td>10.009 ± 0.077</td>\n",
       "      <td>10.002 ± 0.073</td>\n",
       "      <td>10.054 ± 0.207</td>\n",
       "      <td>9.982 ± 0.255</td>\n",
       "      <td>10.001 ± 0.261</td>\n",
       "    </tr>\n",
       "    <tr>\n",
       "      <th>1000</th>\n",
       "      <td>10.018 ± 0.035</td>\n",
       "      <td>10.005 ± 0.032</td>\n",
       "      <td>10.000 ± 0.032</td>\n",
       "      <td>10.008 ± 0.017</td>\n",
       "      <td>10.001 ± 0.026</td>\n",
       "      <td>10.000 ± 0.023</td>\n",
       "      <td>10.018 ± 0.065</td>\n",
       "      <td>10.005 ± 0.092</td>\n",
       "      <td>10.000 ± 0.085</td>\n",
       "    </tr>\n",
       "    <tr>\n",
       "      <th>10000</th>\n",
       "      <td>10.002 ± 0.008</td>\n",
       "      <td>10.001 ± 0.008</td>\n",
       "      <td>10.000 ± 0.010</td>\n",
       "      <td>9.999 ± 0.007</td>\n",
       "      <td>10.001 ± 0.007</td>\n",
       "      <td>10.000 ± 0.007</td>\n",
       "      <td>10.002 ± 0.038</td>\n",
       "      <td>10.001 ± 0.025</td>\n",
       "      <td>10.000 ± 0.026</td>\n",
       "    </tr>\n",
       "  </tbody>\n",
       "</table>\n",
       "</div>"
      ],
      "text/plain": [
       "            normal_10      normal_100     normal_1000      laplace_10  \\\n",
       "1       9.930 ± 0.816   9.932 ± 0.945  10.008 ± 0.980  10.438 ± 0.423   \n",
       "10     10.073 ± 0.349   9.928 ± 0.314  10.000 ± 0.308   9.905 ± 0.307   \n",
       "100    10.054 ± 0.105   9.982 ± 0.097  10.001 ± 0.100   9.977 ± 0.082   \n",
       "1000   10.018 ± 0.035  10.005 ± 0.032  10.000 ± 0.032  10.008 ± 0.017   \n",
       "10000  10.002 ± 0.008  10.001 ± 0.008  10.000 ± 0.010   9.999 ± 0.007   \n",
       "\n",
       "          laplace_100    laplace_1000       cauchy_10        cauchy_100  \\\n",
       "1      10.038 ± 1.073   9.956 ± 1.096  9.930 ± 82.050    9.932 ± 14.156   \n",
       "10      9.932 ± 0.267  10.001 ± 0.263  10.073 ± 1.049  9.928 ± 1654.616   \n",
       "100    10.009 ± 0.077  10.002 ± 0.073  10.054 ± 0.207     9.982 ± 0.255   \n",
       "1000   10.001 ± 0.026  10.000 ± 0.023  10.018 ± 0.065    10.005 ± 0.092   \n",
       "10000  10.001 ± 0.007  10.000 ± 0.007  10.002 ± 0.038    10.001 ± 0.025   \n",
       "\n",
       "             cauchy_1000  \n",
       "1        10.008 ± 80.940  \n",
       "10     10.000 ± 1163.359  \n",
       "100       10.001 ± 0.261  \n",
       "1000      10.000 ± 0.085  \n",
       "10000     10.000 ± 0.026  "
      ]
     },
     "execution_count": 70,
     "metadata": {},
     "output_type": "execute_result"
    }
   ],
   "source": [
    "a = 10.0\n",
    "df10 = give_dataframe(a, n, num_realisations)\n",
    "df10.head()"
   ]
  },
  {
   "cell_type": "code",
   "execution_count": null,
   "metadata": {},
   "outputs": [],
   "source": [
    "plot_mean_var(stats_10)"
   ]
  },
  {
   "cell_type": "code",
   "execution_count": null,
   "metadata": {},
   "outputs": [],
   "source": [
    "plot_cdf_pdf(n, estimates_1, stats_1)"
   ]
  }
 ],
 "metadata": {
  "kernelspec": {
   "display_name": "est_env",
   "language": "python",
   "name": "python3"
  },
  "language_info": {
   "codemirror_mode": {
    "name": "ipython",
    "version": 3
   },
   "file_extension": ".py",
   "mimetype": "text/x-python",
   "name": "python",
   "nbconvert_exporter": "python",
   "pygments_lexer": "ipython3",
   "version": "3.12.0"
  }
 },
 "nbformat": 4,
 "nbformat_minor": 2
}
