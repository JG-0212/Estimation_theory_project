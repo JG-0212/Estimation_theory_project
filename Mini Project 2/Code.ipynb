{
 "cells": [
  {
   "cell_type": "code",
   "execution_count": 47,
   "id": "66b7a906",
   "metadata": {},
   "outputs": [],
   "source": [
    "import numpy as np\n",
    "from scipy.stats import invwishart"
   ]
  },
  {
   "cell_type": "code",
   "execution_count": 11,
   "id": "53299a68",
   "metadata": {},
   "outputs": [],
   "source": [
    "np.random.seed(42)"
   ]
  },
  {
   "cell_type": "code",
   "execution_count": 12,
   "id": "70647522",
   "metadata": {},
   "outputs": [],
   "source": [
    "def generate_samples(n):\n",
    "    # size = nx2\n",
    "    mean = np.array([0,0])\n",
    "    cov = np.array([[1,0],[0,2]])\n",
    "\n",
    "    samples = np.random.multivariate_normal(mean,cov,size=n)\n",
    "    return samples"
   ]
  },
  {
   "cell_type": "code",
   "execution_count": 13,
   "id": "dae8cafb",
   "metadata": {},
   "outputs": [],
   "source": [
    "n10 = generate_samples(10)\n",
    "n100 = generate_samples(100)\n",
    "n1000 = generate_samples(1000)"
   ]
  },
  {
   "cell_type": "code",
   "execution_count": 14,
   "id": "cceacf6a",
   "metadata": {},
   "outputs": [],
   "source": [
    "def mle_estimate(samples):\n",
    "    return samples.T@samples/len(samples)"
   ]
  },
  {
   "cell_type": "code",
   "execution_count": null,
   "id": "0ecde9dd",
   "metadata": {},
   "outputs": [],
   "source": [
    "def bayesian_estimate_invwishart_cp(samples):\n",
    "    n = len(samples)\n",
    "    v0 = 5\n",
    "    delta0 = np.array([[4,0],[0,5]])\n",
    "    d = 1\n",
    "    dof = n + v0\n",
    "    scale = delta0 + samples.T@samples\n",
    "    \n",
    "    # return analytical mean of posterior\n",
    "    return scale/(dof-d-1)"
   ]
  },
  {
   "cell_type": "code",
   "execution_count": null,
   "id": "71e92853",
   "metadata": {},
   "outputs": [],
   "source": [
    "def bayesian_estimate_jeffery(samples):\n",
    "    # https://tminka.github.io/papers/minka-gaussian.pdf\n",
    "    n = len(samples)\n",
    "    d = 1\n",
    "    dof = n\n",
    "    scale = samples.T@samples\n",
    "    \n",
    "    # return analytical mean of posterior\n",
    "    return scale/(dof-d-1)\n",
    "\n",
    "def bayesian_estimate_ind_jeffery(samples):\n",
    "    # gelman page 72\n",
    "    n = len(samples)\n",
    "    d = 1\n",
    "    dof = n - 1\n",
    "    scale = samples.T@samples\n",
    "    \n",
    "    # return analytical mean of posterior\n",
    "    return scale/(dof-d-1)"
   ]
  },
  {
   "cell_type": "code",
   "execution_count": 75,
   "id": "4f869ba7",
   "metadata": {},
   "outputs": [],
   "source": [
    "def mc_bayesian_a(samples):\n",
    "    n = len(samples)\n",
    "    v0 = 5\n",
    "    delta0 = np.array([[4,0],[0,5]])\n",
    "\n",
    "    for m in [1e3, 1e4, 1e5]:\n",
    "        numerators = []\n",
    "        denominators = []\n",
    "        for _ in range(int(m)):\n",
    "            sigma_j = invwishart.rvs(v0,delta0)\n",
    "            det_term = np.linalg.det(sigma_j)**(-n/2)\n",
    "            exp_term = np.exp(-0.5*np.linalg.trace(np.linalg.inv(sigma_j)@(samples.T@samples)))\n",
    "            numerators.append(sigma_j*det_term*exp_term)\n",
    "            denominators.append(det_term*exp_term)\n",
    "\n",
    "        print(f\"For m={m}:\\n\")\n",
    "        print(np.array(numerators).mean(axis=0)/np.mean(denominators))\n",
    "\n",
    "def mc_bayesian_b(samples):\n",
    "    n = len(samples)\n",
    "    v0 = 5\n",
    "    delta0 = np.array([[2,0],[0,4]])\n",
    "\n",
    "    for m in [1e3, 1e4, 1e5]:\n",
    "        numerators = []\n",
    "        denominators = []\n",
    "        for _ in range(int(m)):\n",
    "            sigma_j = invwishart.rvs(v0,delta0)\n",
    "            det_term = np.linalg.det(sigma_j)**(-n/2)\n",
    "            exp_term = np.exp(-0.5*np.linalg.trace(np.linalg.inv(sigma_j)@(samples.T@samples)))\n",
    "            numerators.append(sigma_j*det_term*exp_term)\n",
    "            denominators.append(det_term*exp_term)\n",
    "\n",
    "        print(f\"For m={m}:\\n\")\n",
    "        print(np.array(numerators).mean(axis=0)/np.mean(denominators))\n"
   ]
  },
  {
   "cell_type": "code",
   "execution_count": null,
   "id": "a77ed715",
   "metadata": {},
   "outputs": [],
   "source": []
  }
 ],
 "metadata": {
  "kernelspec": {
   "display_name": "est_env",
   "language": "python",
   "name": "python3"
  },
  "language_info": {
   "codemirror_mode": {
    "name": "ipython",
    "version": 3
   },
   "file_extension": ".py",
   "mimetype": "text/x-python",
   "name": "python",
   "nbconvert_exporter": "python",
   "pygments_lexer": "ipython3",
   "version": "3.12.0"
  }
 },
 "nbformat": 4,
 "nbformat_minor": 5
}
