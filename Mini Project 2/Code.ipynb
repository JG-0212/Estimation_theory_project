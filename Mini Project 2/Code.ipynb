{
 "cells": [
  {
   "cell_type": "code",
   "execution_count": 13,
   "id": "cdcf33c4",
   "metadata": {},
   "outputs": [],
   "source": [
    "import numpy as np\n",
    "from scipy.stats import invwishart, invgamma\n",
    "from scipy.special import logsumexp\n",
    "from scipy.special import gamma \n",
    "import matplotlib.pyplot as plt\n",
    "import seaborn as sns\n",
    "from scipy.optimize import minimize"
   ]
  },
  {
   "cell_type": "markdown",
   "id": "66b32034",
   "metadata": {},
   "source": [
    "## Data"
   ]
  },
  {
   "cell_type": "code",
   "execution_count": 14,
   "id": "bb7fa73e",
   "metadata": {},
   "outputs": [],
   "source": [
    "np.random.seed(42)\n",
    "true_cov = np.array([[1,0],[0,2]])"
   ]
  },
  {
   "cell_type": "markdown",
   "id": "c6f8832e",
   "metadata": {},
   "source": [
    "## Helper Functions"
   ]
  },
  {
   "cell_type": "code",
   "execution_count": 15,
   "id": "79261655",
   "metadata": {},
   "outputs": [],
   "source": [
    "def gammafn(x,d):\n",
    "    \"\"\"Compute the gamma function for a given x and d.\"\"\"\n",
    "    init = np.pi**(d*(d-1)/4)\n",
    "    for i in range(1,d+1):\n",
    "        init *= gamma(x + (1-i)/2)\n",
    "        init = np.clip(init, -1e30, 1e30)\n",
    "    return init\n",
    "\n",
    "def objective_function_voptimal(v,n,d):\n",
    "    \"\"\"Calculate the objective function for voptimal.\"\"\"\n",
    "    v = np.clip(v, 1e-30, 1e30)\n",
    "    term_1 = v*np.log((v+n)/v)\n",
    "    term_2 = n*np.log((v+n)/n)\n",
    "    # print((v+n)/v , \"v\")\n",
    "    term_3 = np.log(np.clip(gammafn(v/2,d)/gammafn((v+n)/2,d), 1e-30, 1e30))\n",
    "    return term_1 + term_2 + term_3\n",
    "\n",
    "def generate_samples(n):\n",
    "    \"\"\"Generate samples from a multivariate normal distribution.\"\"\"\n",
    "    # size = nx2\n",
    "    mean = np.array([0,0])\n",
    "    cov = np.array([[1,0],[0,2]])\n",
    "\n",
    "    samples = np.random.multivariate_normal(mean,cov,size=n)\n",
    "    return samples\n",
    "\n",
    "def get_error(samples, estimate):\n",
    "    \"\"\"Calculate the 2nd norm between the samples and the estimate matrices\"\"\"\n",
    "    return np.linalg.norm(samples - estimate)\n",
    "\n",
    "def plotError(errors, title):\n",
    "    \"\"\"Plot the errors for different sample sizes.\"\"\"\n",
    "    sns.set_theme(style=\"whitegrid\")\n",
    "    plt.figure(figsize=(10, 6))\n",
    "    for key in errors.keys():\n",
    "        plt.plot([10, 100, 1000],errors[key], label=key)\n",
    "    plt.xscale('log')\n",
    "    plt.yscale('log')\n",
    "    plt.title(title)\n",
    "    plt.xlabel(\"Sample Size\")\n",
    "    plt.ylabel(\"Error\")\n",
    "    plt.legend()\n",
    "    plt.show()\n",
    "\n",
    "n10 = generate_samples(10)\n",
    "n100 = generate_samples(100)\n",
    "n1000 = generate_samples(1000)\n",
    "errors = {}"
   ]
  },
  {
   "cell_type": "markdown",
   "id": "4ce44167",
   "metadata": {},
   "source": [
    "## WorkHorses"
   ]
  },
  {
   "cell_type": "code",
   "execution_count": 16,
   "id": "8a448ad4",
   "metadata": {},
   "outputs": [],
   "source": [
    "def mle_estimate(samples:np.ndarray) -> np.ndarray:\n",
    "    \"\"\"Maximum Likelihood Estimate of covariance matrix\n",
    "    samples: nx2 matrix\n",
    "    returns: 2x2 covariance matrix\n",
    "    \"\"\"\n",
    "    return samples.T@samples/len(samples)\n",
    "\n",
    "def bayesian_estimate(samples :np.ndarray, delta0: np.ndarray, v0:int) -> np.ndarray:\n",
    "    \"\"\"Bayesian estimate of covariance matrix using Inverse Wishart prior\n",
    "    samples: nxd matrix\n",
    "    delta0: dxd matrix\n",
    "    v0: int\n",
    "    returns: dxd covariance matrix\n",
    "    \"\"\"\n",
    "    n,d = samples.shape\n",
    "    dof = n + v0\n",
    "    scale = delta0 + samples.T@samples\n",
    "    \n",
    "    # return analytical mean of posterior\n",
    "    return scale/(dof-d-1)\n",
    "\n",
    "def bayesian_estimate_using_MC(samples :np.ndarray, delta0: np.ndarray, v0:int) -> np.ndarray:\n",
    "    \"\"\"Bayesian estimate of covariance matrix using Inverse Wishart prior\n",
    "    samples: nxd matrix\n",
    "    delta0: dxd matrix\n",
    "    v0: int\n",
    "    returns: dxd covariance matrix\n",
    "    \"\"\"\n",
    "    n,d = samples.shape\n",
    "    cov_matrix = samples.T@samples\n",
    "    vals = []\n",
    "    for m in [1e3, 1e4, 1e5]:\n",
    "        sigmas = []\n",
    "        log_weights = []\n",
    "        for _ in range(int(m)):\n",
    "            sigma_j = invwishart.rvs(v0,delta0)\n",
    "            det_term = (-n/2)*np.log(np.linalg.det(sigma_j))\n",
    "            exp_term = -0.5*np.trace(np.linalg.inv(sigma_j)@(samples.T@samples))\n",
    "            sigmas.append(sigma_j)\n",
    "            log_weights.append(det_term+exp_term)\n",
    "        log_denominator = logsumexp(log_weights)\n",
    "        ans = np.zeros((2,2))\n",
    "        for w,s in zip(log_weights, sigmas):\n",
    "            ans += np.exp(w-log_denominator)*s\n",
    "        vals.append(ans)\n",
    "    return np.array(vals)\n",
    "\n",
    "def gibbs_sampler(samples :np.ndarray, sigma: np.ndarray, v0:int) -> np.ndarray:\n",
    "    \"\"\"Gibbs sampler for covariance matrix for solving hierarchical bayes model\n",
    "    samples: nxd matrix\n",
    "    sigma: dxd matrix as an initial guess\n",
    "    v0: int\n",
    "    returns: dxd covariance matrix\n",
    "    \"\"\"\n",
    "    n,d = samples.shape\n",
    "    iter = 1e3\n",
    "    A_1 = 0.05\n",
    "    A_2 = 0.05\n",
    "    cov_matrix = samples.T@samples\n",
    "    \n",
    "    sigmas = []\n",
    "    for i in range(int(iter)):\n",
    "        a1 = invgamma.rvs((v0+n)/2,scale=v0*(np.linalg.inv(sigma)[0][0])+1/(A_1**2))\n",
    "        a2 = invgamma.rvs((v0+n)/2,scale=v0*(np.linalg.inv(sigma)[1][1])+1/(A_2**2))\n",
    "        sigma = invwishart.rvs(v0+d+n-1, 2*v0*np.array([[1/a1,0],[0,1/a2]])+cov_matrix)\n",
    "        sigmas.append(sigma)\n",
    "    \n",
    "    return np.array(sigmas).mean(axis=0)\n",
    "\n",
    "def EmpiricalBayes(samples :np.ndarray,v0:int) -> np.ndarray:\n",
    "    \"\"\"Empirical Bayes estimate of covariance matrix using Inverse Wishart prior\n",
    "    samples: nxd matrix\n",
    "    v0: int\n",
    "    returns: dxd covariance matrix\n",
    "    \"\"\"\n",
    "    n,d = samples.shape\n",
    "    v_opt = minimize(lambda x: objective_function_voptimal(x,n,d), v0)\n",
    "    del_opt = v_opt.x[0]/n * samples.T@samples\n",
    "    #  InvWishart(νopt + n,∆opt + Σn) Calculate the posterior mean\n",
    "    posterior_mean = (del_opt + samples.T@samples ) / (v_opt.x[0] + n - d - 1)\n",
    "    return posterior_mean  \n",
    "        "
   ]
  },
  {
   "cell_type": "markdown",
   "id": "e69b9db2",
   "metadata": {},
   "source": [
    "## Q1"
   ]
  },
  {
   "cell_type": "code",
   "execution_count": 17,
   "id": "0439dcb8",
   "metadata": {},
   "outputs": [
    {
     "name": "stdout",
     "output_type": "stream",
     "text": [
      "N10 estimate : [0.95639504 0.5114831 ] \n",
      " \t\t[0.5114831  1.70687007] \t Error : 0.78170100869855 \n",
      "\n",
      "N100 estimate : [1.09090575 0.06765193] \n",
      " \t\t[0.06765193 1.42585811] \t Error : 0.5891148760120036 \n",
      "\n",
      "N1000 estimate : [ 1.00312518 -0.00914911] \n",
      " \t\t[-0.00914911  1.92430787] \t Error : 0.07685361366732414 \n",
      "\n"
     ]
    }
   ],
   "source": [
    "mle_n10 = mle_estimate(n10)\n",
    "mle_n100 = mle_estimate(n100)\n",
    "mle_n1000 = mle_estimate(n1000)\n",
    "\n",
    "# print(f\"  Estimate  \\t|\\t Error \\n\")\n",
    "print(f\"N10 estimate : {mle_n10[0]} \\n \\t\\t{mle_n10[1]} \\t\", f\"Error : {get_error(true_cov, mle_n10)}\" , \"\\n\")\n",
    "print(f\"N100 estimate : {mle_n100[0]} \\n \\t\\t{mle_n100[1]} \\t\", f\"Error : {get_error(true_cov, mle_n100)}\", \"\\n\")\n",
    "print(f\"N1000 estimate : {mle_n1000[0]} \\n \\t\\t{mle_n1000[1]} \\t\", f\"Error : {get_error(true_cov, mle_n1000)}\" , \"\\n\")  \n",
    "errors['MLE'] = [get_error(true_cov, mle_n10), get_error(true_cov, mle_n100), get_error(true_cov, mle_n1000)]"
   ]
  },
  {
   "cell_type": "markdown",
   "id": "41e4dcd0",
   "metadata": {},
   "source": [
    "## Q2"
   ]
  },
  {
   "cell_type": "code",
   "execution_count": 18,
   "id": "d74ed6fa",
   "metadata": {},
   "outputs": [
    {
     "name": "stdout",
     "output_type": "stream",
     "text": [
      "N10 estimate : [1.1303292  0.42623591] \n",
      " \t\t[0.42623591 1.83905839] \t Error : 0.6373711732031411 \n",
      "\n",
      "N100 estimate : [1.10873113 0.06632542] \n",
      " \t\t[0.06632542 1.44691971] \t Error : 0.5714178737942226 \n",
      "\n",
      "N1000 estimate : [ 1.00511495 -0.00913085] \n",
      " \t\t[-0.00913085  1.92545696] \t Error : 0.07582593953464452 \n",
      "\n"
     ]
    }
   ],
   "source": [
    "delta0 = np.array([[4,0],[0,5]])\n",
    "v0 = 5\n",
    "bayes_invwis_n10 = bayesian_estimate(n10, delta0, v0)\n",
    "bayes_invwis_n100 = bayesian_estimate(n100, delta0, v0)\n",
    "bayes_invwis_n1000 = bayesian_estimate(n1000, delta0, v0)\n",
    "\n",
    "# print(f\"  Estimate  \\t|\\t Error \\n\")\n",
    "print(f\"N10 estimate : {bayes_invwis_n10[0]} \\n \\t\\t{bayes_invwis_n10[1]} \\t\", f\"Error : {get_error(true_cov, bayes_invwis_n10)}\" , \"\\n\")\n",
    "print(f\"N100 estimate : {bayes_invwis_n100[0]} \\n \\t\\t{bayes_invwis_n100[1]} \\t\", f\"Error : {get_error(true_cov, bayes_invwis_n100)}\", \"\\n\")\n",
    "print(f\"N1000 estimate : {bayes_invwis_n1000[0]} \\n \\t\\t{bayes_invwis_n1000[1]} \\t\", f\"Error : {get_error(true_cov, bayes_invwis_n1000)}\" , \"\\n\")  \n",
    "errors['Bayes Inv Wishart'] = [get_error(true_cov, bayes_invwis_n10), get_error(true_cov, bayes_invwis_n100), get_error(true_cov, bayes_invwis_n1000)]"
   ]
  },
  {
   "cell_type": "markdown",
   "id": "3ceb5020",
   "metadata": {},
   "source": [
    "## Q3"
   ]
  },
  {
   "cell_type": "code",
   "execution_count": 19,
   "id": "41b85215",
   "metadata": {},
   "outputs": [
    {
     "name": "stdout",
     "output_type": "stream",
     "text": [
      "N10 estimate : [1.1954938  0.63935387] \n",
      " \t\t[0.63935387 2.13358758] \t Error : 0.9346711809305068 \n",
      "\n",
      "N100 estimate : [1.11316913 0.06903258] \n",
      " \t\t[0.06903258 1.45495725] \t Error : 0.5651635564589236 \n",
      "\n",
      "N1000 estimate : [ 1.00513545 -0.00916745] \n",
      " \t\t[-0.00916745  1.9281642 ] \t Error : 0.07317676920946582 \n",
      "\n",
      "\n",
      "\n",
      "N10 estimate : [1.36627863 0.73069014] \n",
      " \t\t[0.73069014 2.43838581] \t Error : 1.180744813626069 \n",
      "\n",
      "N100 estimate : [1.1246451  0.06974426] \n",
      " \t\t[0.06974426 1.46995681] \t Error : 0.5533630885390415 \n",
      "\n",
      "N1000 estimate : [ 1.00614361 -0.00917664] \n",
      " \t\t[-0.00917664  1.93009816] \t Error : 0.07136127951600006 \n",
      "\n"
     ]
    }
   ],
   "source": [
    "delta0 = np.array([[0,0],[0,0]])\n",
    "v0 = 1\n",
    "jeffery_n10 = bayesian_estimate(n10, delta0, v0)\n",
    "jeffery_n100 = bayesian_estimate(n100, delta0, v0)\n",
    "jeffery_n1000 = bayesian_estimate(n1000, delta0, v0)\n",
    "\n",
    "# print(f\"  Estimate  \\t|\\t Error \\n\")\n",
    "print(f\"N10 estimate : {jeffery_n10[0]} \\n \\t\\t{jeffery_n10[1]} \\t\", f\"Error : {get_error(true_cov, jeffery_n10)}\" , \"\\n\")\n",
    "print(f\"N100 estimate : {jeffery_n100[0]} \\n \\t\\t{jeffery_n100[1]} \\t\", f\"Error : {get_error(true_cov, jeffery_n100)}\", \"\\n\")\n",
    "print(f\"N1000 estimate : {jeffery_n1000[0]} \\n \\t\\t{jeffery_n1000[1]} \\t\", f\"Error : {get_error(true_cov, jeffery_n1000)}\" , \"\\n\") \n",
    "print(\"\\n\")\n",
    "errors['Bayes Jeffery'] = [get_error(true_cov, jeffery_n10), get_error(true_cov, jeffery_n100), get_error(true_cov, jeffery_n1000)]\n",
    "\n",
    "v0 = 0\n",
    "jeffery_ind_n10 = bayesian_estimate(n10, delta0, v0)\n",
    "jeffery_ind_n100 = bayesian_estimate(n100, delta0, v0)\n",
    "jeffery_ind_n1000 = bayesian_estimate(n1000, delta0, v0)\n",
    "\n",
    "\n",
    "# print(f\"  Estimate  \\t|\\t Error \\n\")\n",
    "print(f\"N10 estimate : {jeffery_ind_n10[0]} \\n \\t\\t{jeffery_ind_n10[1]} \\t\", f\"Error : {get_error(true_cov, jeffery_ind_n10)}\" , \"\\n\")\n",
    "print(f\"N100 estimate : {jeffery_ind_n100[0]} \\n \\t\\t{jeffery_ind_n100[1]} \\t\", f\"Error : {get_error(true_cov, jeffery_ind_n100)}\", \"\\n\")\n",
    "print(f\"N1000 estimate : {jeffery_ind_n1000[0]} \\n \\t\\t{jeffery_ind_n1000[1]} \\t\", f\"Error : {get_error(true_cov, jeffery_ind_n1000)}\" , \"\\n\")  \n",
    "errors['Bayes Jeffery Ind'] = [get_error(true_cov, jeffery_ind_n10), get_error(true_cov, jeffery_ind_n100), get_error(true_cov, jeffery_ind_n1000)]"
   ]
  },
  {
   "cell_type": "markdown",
   "id": "a81e303b",
   "metadata": {},
   "source": [
    "## Q4"
   ]
  },
  {
   "cell_type": "code",
   "execution_count": 20,
   "id": "c58794b2",
   "metadata": {},
   "outputs": [
    {
     "name": "stdout",
     "output_type": "stream",
     "text": [
      "N10 estimate : [[1.14129646 0.4391255 ]\n",
      " [0.4391255  1.8550617 ]] \n",
      " \t\t[[1.12893434 0.42543021]\n",
      " [0.42543021 1.85862931]]\n",
      " \t\t[[1.13334631 0.42784017]\n",
      " [0.42784017 1.84550338]] \t Error : [0.6531724225815151, 0.6313410096944304, 0.6385490322791338] \n",
      "\n",
      "N100 estimate : [[1.0993606  0.02851408]\n",
      " [0.02851408 1.45751182]] \n",
      " \t\t[[1.11800412 0.06566948]\n",
      " [0.06566948 1.46410161]]\n",
      " \t\t[[1.11463093 0.06558901]\n",
      " [0.06558901 1.44739235]] \t Error : [0.5529846831502834, 0.5565402184334348, 0.5719434477090595] \n",
      "\n",
      "N1000 estimate : [[ 1.06061303 -0.1206178 ]\n",
      " [-0.1206178   1.9168524 ]] \n",
      " \t\t[[ 0.97676615 -0.01620523]\n",
      " [-0.01620523  1.91105703]]\n",
      " \t\t[[ 1.00340928 -0.01092431]\n",
      " [-0.01092431  1.92137923]] \t Error : [0.1992103655066356, 0.09474113857200032, 0.08019681543101649] \n",
      "\n",
      "\n",
      "\n",
      "N10 estimate : [[0.97203399 0.44348641]\n",
      " [0.44348641 1.80157382]] \n",
      " \t\t[[0.96247224 0.42504859]\n",
      " [0.42504859 1.74646239]]\n",
      " \t\t[[0.9650149  0.42792172]\n",
      " [0.42792172 1.76114489]] \t Error : [0.6584188945503935, 0.6534694012063803, 0.6515440999826649] \n",
      "\n",
      "N100 estimate : [[1.10912837 0.09975723]\n",
      " [0.09975723 1.37104929]] \n",
      " \t\t[[1.08687453 0.06361133]\n",
      " [0.06361133 1.44813817]]\n",
      " \t\t[[1.08754741 0.06498998]\n",
      " [0.06498998 1.44601394]] \t Error : [0.6537514879387932, 0.5658546366431488, 0.5683418839148483] \n",
      "\n",
      "N1000 estimate : [[0.94864496 0.07172201]\n",
      " [0.07172201 1.89296602]] \n",
      " \t\t[[ 1.01229342 -0.00721358]\n",
      " [-0.00721358  1.88256426]]\n",
      " \t\t[[0.99163749 0.0029853 ]\n",
      " [0.0029853  1.91685385]] \t Error : [0.15614643239001383, 0.11851730672029478, 0.08367220561721272] \n",
      "\n"
     ]
    }
   ],
   "source": [
    "delta0 = np.array([[4,0],[0,5]])\n",
    "v0 = 5\n",
    "mc_a_n10 = bayesian_estimate_using_MC(n10, delta0, v0)\n",
    "mc_a_n100 = bayesian_estimate_using_MC(n100, delta0, v0)\n",
    "mc_a_n1000 = bayesian_estimate_using_MC(n1000, delta0, v0)\n",
    "\n",
    "# print(f\"  Estimate  \\t|\\t Error \\n\")\n",
    "\n",
    "print(f\"N10 estimate : {mc_a_n10[0]} \\n \\t\\t{mc_a_n10[1]}\\n \\t\\t{mc_a_n10[2]} \\t\", f\"Error : {[get_error(true_cov, x) for x in mc_a_n10] }\" , \"\\n\")\n",
    "print(f\"N100 estimate : {mc_a_n100[0]} \\n \\t\\t{mc_a_n100[1]}\\n \\t\\t{mc_a_n100[2]} \\t\", f\"Error : {[get_error(true_cov, x) for x in mc_a_n100]}\", \"\\n\")\n",
    "print(f\"N1000 estimate : {mc_a_n1000[0]} \\n \\t\\t{mc_a_n1000[1]}\\n \\t\\t{mc_a_n1000[2]} \\t\", f\"Error : {[get_error(true_cov, x) for x in mc_a_n1000]}\" , \"\\n\") \n",
    "print(\"\\n\")\n",
    "errors['MC Bayes with prior 1'] = [get_error(true_cov, mc_a_n10[-1]), get_error(true_cov, mc_a_n100[-1]), get_error(true_cov, mc_a_n1000[-1])]\n",
    "\n",
    "delta0 = np.array([[2,0],[0,4]])\n",
    "mc_b_n10 = bayesian_estimate_using_MC(n10, delta0, v0)\n",
    "mc_b_n100 = bayesian_estimate_using_MC(n100, delta0, v0)\n",
    "mc_b_n1000 = bayesian_estimate_using_MC(n1000, delta0, v0)\n",
    "errors['MC Bayes with prior 2'] = [get_error(true_cov, mc_a_n10[-1]), get_error(true_cov, mc_a_n100[-1]), get_error(true_cov, mc_a_n1000[-1])]\n",
    "\n",
    "# print(f\"  Estimate  \\t|\\t Error \\n\")\n",
    "print(f\"N10 estimate : {mc_b_n10[0]} \\n \\t\\t{mc_b_n10[1]}\\n \\t\\t{mc_b_n10[2]} \\t\", f\"Error : {[get_error(true_cov, x) for x in mc_b_n10]}\" , \"\\n\")\n",
    "print(f\"N100 estimate : {mc_b_n100[0]} \\n \\t\\t{mc_b_n100[1]}\\n \\t\\t{mc_b_n100[2]} \\t\", f\"Error : {[get_error(true_cov, x) for x in mc_b_n100]}\", \"\\n\")\n",
    "print(f\"N1000 estimate : {mc_b_n1000[0]} \\n \\t\\t{mc_b_n1000[1]}\\n \\t\\t{mc_b_n1000[2]} \\t\", f\"Error : {[get_error(true_cov, x) for x in mc_b_n1000]}\" , \"\\n\")  "
   ]
  },
  {
   "cell_type": "markdown",
   "id": "1753fad5",
   "metadata": {},
   "source": [
    "## Q5"
   ]
  },
  {
   "cell_type": "code",
   "execution_count": 21,
   "id": "8981f4d6",
   "metadata": {},
   "outputs": [
    {
     "name": "stdout",
     "output_type": "stream",
     "text": [
      "N10 estimate : [0.76111874 0.39952346] \n",
      " \t\t[0.39952346 1.34553095] \t Error : 0.8970128115463586 \n",
      "\n",
      "N100 estimate : [1.07811841 0.07162949] \n",
      " \t\t[0.07162949 1.4067706 ] \t Error : 0.606865036534499 \n",
      "\n",
      "N1000 estimate : [ 1.01422769 -0.00790165] \n",
      " \t\t[-0.00790165  1.93181485] \t Error : 0.07054440778760485 \n",
      "\n",
      "\n",
      "\n"
     ]
    }
   ],
   "source": [
    "sigma0 = np.array([[4,0],[0,5]])\n",
    "v0 = 5\n",
    "gibbs_n10 = gibbs_sampler(n10, sigma0, v0)\n",
    "gibbs_n100 = gibbs_sampler(n100, sigma0, v0)\n",
    "gibbs_n1000 = gibbs_sampler(n1000, sigma0, v0)\n",
    "errors['Gibbs'] = [get_error(true_cov, gibbs_n10), get_error(true_cov, gibbs_n100), get_error(true_cov, gibbs_n1000)]\n",
    "# print(f\"  Estimate  \\t|\\t Error \\n\")\n",
    "print(f\"N10 estimate : {gibbs_n10[0]} \\n \\t\\t{gibbs_n10[1]} \\t\", f\"Error : {get_error(true_cov, gibbs_n10)}\" , \"\\n\")\n",
    "print(f\"N100 estimate : {gibbs_n100[0]} \\n \\t\\t{gibbs_n100[1]} \\t\", f\"Error : {get_error(true_cov, gibbs_n100)}\", \"\\n\")\n",
    "print(f\"N1000 estimate : {gibbs_n1000[0]} \\n \\t\\t{gibbs_n1000[1]} \\t\", f\"Error : {get_error(true_cov, gibbs_n1000)}\" , \"\\n\") \n",
    "print(\"\\n\")"
   ]
  },
  {
   "cell_type": "markdown",
   "id": "9107aec9",
   "metadata": {},
   "source": [
    "## Q6"
   ]
  },
  {
   "cell_type": "code",
   "execution_count": 22,
   "id": "cba81e94",
   "metadata": {},
   "outputs": [
    {
     "name": "stdout",
     "output_type": "stream",
     "text": [
      "N10 estimate : [1.04157568 0.55703797] \n",
      " \t\t[0.55703797 1.85889121] \t Error : 0.8013880606137168 \n",
      "\n",
      "N100 estimate : [1.1246625  0.06974534] \n",
      " \t\t[0.06974534 1.46997955] \t Error : 0.5533454958740844 \n",
      "\n",
      "N1000 estimate : [ 1.00614376 -0.00917664] \n",
      " \t\t[-0.00917664  1.93009845] \t Error : 0.07136100844284828 \n",
      "\n"
     ]
    }
   ],
   "source": [
    "v0 = 5\n",
    "empirical_bayes_n10 = EmpiricalBayes(n10, v0)\n",
    "empirical_bayes_n100 = EmpiricalBayes(n100, v0)\n",
    "empirical_bayes_n1000 = EmpiricalBayes(n1000, v0)\n",
    "errors['Empirical Bayes'] = [get_error(true_cov, empirical_bayes_n10), get_error(true_cov, empirical_bayes_n100), get_error(true_cov, empirical_bayes_n1000)]\n",
    "# print(f\"  Estimate  \\t|\\t Error \\n\")\n",
    "print(f\"N10 estimate : {empirical_bayes_n10[0]} \\n \\t\\t{empirical_bayes_n10[1]} \\t\", f\"Error : {get_error(true_cov, empirical_bayes_n10)}\" , \"\\n\")\n",
    "print(f\"N100 estimate : {empirical_bayes_n100[0]} \\n \\t\\t{empirical_bayes_n100[1]} \\t\", f\"Error : {get_error(true_cov, empirical_bayes_n100)}\", \"\\n\")\n",
    "print(f\"N1000 estimate : {empirical_bayes_n1000[0]} \\n \\t\\t{empirical_bayes_n1000[1]} \\t\", f\"Error : {get_error(true_cov, empirical_bayes_n1000)}\" , \"\\n\")"
   ]
  },
  {
   "cell_type": "code",
   "execution_count": 23,
   "id": "ef3a8d82",
   "metadata": {},
   "outputs": [
    {
     "data": {
      "text/plain": [
       "{'MLE': [0.78170100869855, 0.5891148760120036, 0.07685361366732414],\n",
       " 'Bayes Inv Wishart': [0.6373711732031411,\n",
       "  0.5714178737942226,\n",
       "  0.07582593953464452],\n",
       " 'Bayes Jeffery': [0.9346711809305068,\n",
       "  0.5651635564589236,\n",
       "  0.07317676920946582],\n",
       " 'Bayes Jeffery Ind': [1.180744813626069,\n",
       "  0.5533630885390415,\n",
       "  0.07136127951600006],\n",
       " 'MC Bayes with prior 1': [0.6385490322791338,\n",
       "  0.5719434477090595,\n",
       "  0.08019681543101649],\n",
       " 'MC Bayes with prior 2': [0.6385490322791338,\n",
       "  0.5719434477090595,\n",
       "  0.08019681543101649],\n",
       " 'Gibbs': [0.8970128115463586, 0.606865036534499, 0.07054440778760485],\n",
       " 'Empirical Bayes': [0.8013880606137168,\n",
       "  0.5533454958740844,\n",
       "  0.07136100844284828]}"
      ]
     },
     "execution_count": 23,
     "metadata": {},
     "output_type": "execute_result"
    }
   ],
   "source": [
    "errors"
   ]
  },
  {
   "cell_type": "code",
   "execution_count": 24,
   "id": "12ced1f3",
   "metadata": {},
   "outputs": [
    {
     "data": {
      "image/png": "[encoded data removed]",
      "text/plain": [
       "<Figure size 1000x600 with 1 Axes>"
      ]
     },
     "metadata": {},
     "output_type": "display_data"
    }
   ],
   "source": [
    "plotError(errors, \"Error in estimates of covariance matrix\")    "
   ]
  },
  {
   "cell_type": "code",
   "execution_count": null,
   "id": "bbf3b37f",
   "metadata": {},
   "outputs": [],
   "source": []
  }
 ],
 "metadata": {
  "kernelspec": {
   "display_name": "Python 3",
   "language": "python",
   "name": "python3"
  },
  "language_info": {
   "codemirror_mode": {
    "name": "ipython",
    "version": 3
   },
   "file_extension": ".py",
   "mimetype": "text/x-python",
   "name": "python",
   "nbconvert_exporter": "python",
   "pygments_lexer": "ipython3",
   "version": "3.10.7"
  }
 },
 "nbformat": 4,
 "nbformat_minor": 5
}
