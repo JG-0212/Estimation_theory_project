{
 "cells": [
  {
   "cell_type": "code",
   "execution_count": 362,
   "id": "f501367c",
   "metadata": {},
   "outputs": [],
   "source": [
    "import numpy as np\n",
    "import pandas as pd\n",
    "from scipy.optimize import minimize"
   ]
  },
  {
   "cell_type": "code",
   "execution_count": 363,
   "id": "5830ddee",
   "metadata": {},
   "outputs": [],
   "source": [
    "# Define mean vector and covariance matrix\n",
    "mean = np.array([0, 0])\n",
    "cov = np.array([[1, 0], [0, 2]])\n",
    "v0 = 5\n",
    "del_0 = np.array([[4,0],[0,5]])\n",
    "\n",
    "# Generate samples\n",
    "N = 10000\n",
    "samples = np.random.multivariate_normal(mean, cov, N)"
   ]
  },
  {
   "cell_type": "code",
   "execution_count": 364,
   "id": "8acecf2b",
   "metadata": {},
   "outputs": [
    {
     "data": {
      "text/plain": [
       "(10000, 2)"
      ]
     },
     "execution_count": 364,
     "metadata": {},
     "output_type": "execute_result"
    }
   ],
   "source": [
    "samples.shape"
   ]
  },
  {
   "cell_type": "markdown",
   "id": "e9d736f2",
   "metadata": {},
   "source": [
    "## Helper Functions"
   ]
  },
  {
   "cell_type": "code",
   "execution_count": 365,
   "id": "de7bf466",
   "metadata": {},
   "outputs": [],
   "source": [
    "def get_sym_matrix(cov_matrix,d):\n",
    "    \"\"\"\n",
    "    Get the symmetric matrix from the covariance matrix.\n",
    "    \"\"\"\n",
    "    cov_sym_matrix = np.zeros((d,d))\n",
    "    cov_sym_matrix[0][0],cov_sym_matrix[0][1],cov_sym_matrix[1][0],cov_sym_matrix[1][1] = cov_matrix[0],cov_matrix[1],cov_matrix[1],cov_matrix[2] \n",
    "    return cov_sym_matrix\n",
    "\n",
    "def ispsd(matrix):\n",
    "    \"\"\"\n",
    "    Check if a matrix is positive semi-definite.\n",
    "    \n",
    "    Parameters:\n",
    "    matrix (ndarray): Matrix to check.\n",
    "    \n",
    "    Returns:\n",
    "    bool: True if the matrix is positive semi-definite, False otherwise.\n",
    "    \"\"\"\n",
    "    return np.all(np.linalg.eigvals(matrix) > 0)\n",
    "\n",
    "def Wishart(samples, cov_matrix,v_n,del_n):\n",
    "    \"\"\"\n",
    "    Calculate the log-likelihood of the Wishart distribution.\n",
    "    samples: array-like, shape (n_samples, n_features)\n",
    "    cov_matrix: array-like, shape (n_features, n_features)\n",
    "    v_n: float, degrees of freedom\n",
    "    del_n: array-like, shape (n_features, n_features)\n",
    "    \"\"\"\n",
    "    _,d = samples.shape\n",
    "    cov_sym_matrix = get_sym_matrix(cov_matrix,d)\n",
    "    if not ispsd(cov_sym_matrix):\n",
    "        return 1000000\n",
    "\n",
    "    determinant = np.linalg.det(cov_sym_matrix)    \n",
    "    return np.log(determinant)*((v_n + d + 1) / 2) +0.5* np.trace(del_n @ np.linalg.inv(cov_sym_matrix)) "
   ]
  },
  {
   "cell_type": "markdown",
   "id": "efba0cf7",
   "metadata": {},
   "source": [
    "## Estimators"
   ]
  },
  {
   "cell_type": "code",
   "execution_count": 366,
   "id": "0b8ab9a8",
   "metadata": {},
   "outputs": [],
   "source": [
    "def MLEestimate(samples,mu):\n",
    "    \"\"\"\n",
    "    Maximum Likelihood Estimation of the covariance matrix\n",
    "    :param samples: 2D array of samples\n",
    "    :param mu: mean vector\n",
    "    :return: covariance matrix\n",
    "    \"\"\"\n",
    "    n,d = samples.shape[0],samples.shape[1]\n",
    "    return (samples-mu.reshape(1,d)).T @ (samples-mu.reshape(1,d)) / n\n",
    "\n",
    "def BayesEstimateUsingtPrior(samples,cov_guess,v0,del_0):\n",
    "    \"\"\"\n",
    "    Bayesian estimation of the covariance matrix using a Wishart prior\n",
    "    :param samples: 2D array of samples\n",
    "    :return: covariance matrix\n",
    "    \"\"\"\n",
    "    n = samples.shape[0]\n",
    "    initial_guess = (cov_guess).reshape(-1)\n",
    "    initial_guess = initial_guess[[0,1,3]]\n",
    "    v_n = v0 + n \n",
    "    del_n = del_0 + samples.T @ samples\n",
    "    ret = minimize(lambda x: Wishart(samples, x, v_n, del_n),initial_guess,tol=1e-6)\n",
    "    return ret"
   ]
  },
  {
   "cell_type": "code",
   "execution_count": 367,
   "id": "89de11a3",
   "metadata": {},
   "outputs": [],
   "source": [
    "cov = np.array([[7, 4], [4,8]])\n",
    "# ans = BayesEstimateUsingWishartPrior(samples, mean,cov)"
   ]
  },
  {
   "cell_type": "code",
   "execution_count": 368,
   "id": "63a31d47",
   "metadata": {},
   "outputs": [
    {
     "data": {
      "text/plain": [
       "array([[9.94403861e-01, 5.78466455e-04],\n",
       "       [5.78466455e-04, 1.98833591e+00]])"
      ]
     },
     "execution_count": 368,
     "metadata": {},
     "output_type": "execute_result"
    }
   ],
   "source": [
    "ans = BayesEstimateUsingtPrior(samples, cov,v0,del_0)\n",
    "ans = get_sym_matrix(ans.x,2)\n",
    "ans\n"
   ]
  },
  {
   "cell_type": "code",
   "execution_count": 369,
   "id": "55268bd1",
   "metadata": {},
   "outputs": [
    {
     "data": {
      "text/plain": [
       "array([[9.94401651e-01, 5.78686081e-04],\n",
       "       [5.78686081e-04, 1.98863128e+00]])"
      ]
     },
     "execution_count": 369,
     "metadata": {},
     "output_type": "execute_result"
    }
   ],
   "source": [
    "ans = BayesEstimateUsingtPrior(samples, cov,1,np.zeros((2,2)))\n",
    "ans = get_sym_matrix(ans.x,2)\n",
    "ans\n"
   ]
  },
  {
   "cell_type": "code",
   "execution_count": 370,
   "id": "1f52506d",
   "metadata": {},
   "outputs": [
    {
     "data": {
      "text/plain": [
       "array([[9.94501062e-01, 5.78734921e-04],\n",
       "       [5.78734921e-04, 1.98883007e+00]])"
      ]
     },
     "execution_count": 370,
     "metadata": {},
     "output_type": "execute_result"
    }
   ],
   "source": [
    "ans = BayesEstimateUsingtPrior(samples, cov,0,np.zeros((2,2)))\n",
    "ans = get_sym_matrix(ans.x,2)\n",
    "ans"
   ]
  }
 ],
 "metadata": {
  "kernelspec": {
   "display_name": "Python 3",
   "language": "python",
   "name": "python3"
  },
  "language_info": {
   "codemirror_mode": {
    "name": "ipython",
    "version": 3
   },
   "file_extension": ".py",
   "mimetype": "text/x-python",
   "name": "python",
   "nbconvert_exporter": "python",
   "pygments_lexer": "ipython3",
   "version": "3.10.7"
  }
 },
 "nbformat": 4,
 "nbformat_minor": 5
}
